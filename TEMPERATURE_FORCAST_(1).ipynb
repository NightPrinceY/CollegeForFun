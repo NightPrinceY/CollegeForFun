{
  "cells": [
    {
      "cell_type": "markdown",
      "metadata": {
        "id": "view-in-github",
        "colab_type": "text"
      },
      "source": [
        "<a href=\"https://colab.research.google.com/github/NightPrinceY/CollegeForFun/blob/main/TEMPERATURE_FORCAST_(1).ipynb\" target=\"_parent\"><img src=\"https://colab.research.google.com/assets/colab-badge.svg\" alt=\"Open In Colab\"/></a>"
      ]
    },
    {
      "cell_type": "code",
      "execution_count": 6,
      "id": "a7b72d5b",
      "metadata": {
        "id": "a7b72d5b"
      },
      "outputs": [],
      "source": [
        "import csv\n",
        "import pickle\n",
        "import numpy as np\n",
        "import tensorflow as tf\n",
        "import matplotlib.pyplot as plt\n",
        "from dataclasses import dataclass\n",
        "from absl import logging\n",
        "logging.set_verbosity(logging.ERROR)"
      ]
    },
    {
      "cell_type": "code",
      "execution_count": 7,
      "id": "efd49b1f",
      "metadata": {
        "colab": {
          "base_uri": "https://localhost:8080/"
        },
        "id": "efd49b1f",
        "outputId": "32e64636-6578-4992-9dd3-3401a7d07290"
      },
      "outputs": [
        {
          "output_type": "stream",
          "name": "stdout",
          "text": [
            "Header looks like this:\n",
            "\n",
            "\"Date\",\"Temp\"\n",
            "\n",
            "First data point looks like this:\n",
            "\n",
            "\"1981-01-01\",20.7\n",
            "\n",
            "Second data point looks like this:\n",
            "\n",
            "\"1981-01-02\",17.9\n",
            "\n"
          ]
        }
      ],
      "source": [
        "TEMPERATURES_CSV = '/content/daily-min-temperatures.csv'\n",
        "\n",
        "with open(TEMPERATURES_CSV, 'r') as csvfile:\n",
        "    print(f\"Header looks like this:\\n\\n{csvfile.readline()}\")\n",
        "    print(f\"First data point looks like this:\\n\\n{csvfile.readline()}\")\n",
        "    print(f\"Second data point looks like this:\\n\\n{csvfile.readline()}\")"
      ]
    },
    {
      "cell_type": "code",
      "execution_count": 8,
      "id": "083afb69",
      "metadata": {
        "id": "083afb69"
      },
      "outputs": [],
      "source": [
        "def plot_series(time, series, format=\"-\", start=0, end=None):\n",
        "    plt.plot(time[start:end], series[start:end], format)\n",
        "    plt.xlabel(\"Time\")\n",
        "    plt.ylabel(\"Value\")\n",
        "    plt.grid(True)"
      ]
    },
    {
      "cell_type": "code",
      "execution_count": 9,
      "id": "bdc6e9df",
      "metadata": {
        "id": "bdc6e9df"
      },
      "outputs": [],
      "source": [
        "def parse_data_from_file(filename):\n",
        "\n",
        "    times = []\n",
        "    temperatures = []\n",
        "\n",
        "\n",
        "    with open(filename) as csvfile:\n",
        "\n",
        "        reader = csv.reader(csvfile, delimiter=',')\n",
        "        next(reader)  # Skip the header row\n",
        "        for row in reader:\n",
        "            times.append(row[0])\n",
        "            temperatures.append(float(row[1]))\n",
        "\n",
        "\n",
        "    return times, temperatures"
      ]
    },
    {
      "cell_type": "code",
      "execution_count": 10,
      "id": "465beb84",
      "metadata": {
        "colab": {
          "base_uri": "https://localhost:8080/",
          "height": 311
        },
        "id": "465beb84",
        "outputId": "eb2cc2f8-ea1d-430e-c365-b785ee408440"
      },
      "outputs": [
        {
          "output_type": "display_data",
          "data": {
            "text/plain": [
              "<Figure size 500x300 with 1 Axes>"
            ],
            "image/png": "[encoded data removed]"
          },
          "metadata": {}
        }
      ],
      "source": [
        "@dataclass\n",
        "class G:\n",
        "    TEMPERATURES_CSV = '/content/daily-min-temperatures.csv'\n",
        "    times, temperatures = parse_data_from_file(TEMPERATURES_CSV)\n",
        "    TIME = np.array(times)\n",
        "    SERIES = np.array(temperatures)\n",
        "    SPLIT_TIME = 2500\n",
        "    WINDOW_SIZE = 64\n",
        "    BATCH_SIZE = 32\n",
        "    SHUFFLE_BUFFER_SIZE = 1000\n",
        "\n",
        "\n",
        "plt.figure(figsize=(5,3))\n",
        "plot_series(G.TIME, G.SERIES)\n",
        "plt.show()"
      ]
    },
    {
      "cell_type": "code",
      "execution_count": 11,
      "id": "f55c4ea4",
      "metadata": {
        "id": "f55c4ea4"
      },
      "outputs": [],
      "source": [
        "def train_val_split(time, series, time_step=G.SPLIT_TIME):\n",
        "\n",
        "    time_train = time[:time_step]\n",
        "    series_train = series[:time_step]\n",
        "    time_valid = time[time_step:]\n",
        "    series_valid = series[time_step:]\n",
        "\n",
        "    return time_train, series_train, time_valid, series_valid\n",
        "\n",
        "time_train, series_train, time_valid, series_valid = train_val_split(G.TIME, G.SERIES)"
      ]
    },
    {
      "cell_type": "code",
      "execution_count": 12,
      "id": "d071be04",
      "metadata": {
        "id": "d071be04"
      },
      "outputs": [],
      "source": [
        "def windowed_dataset(series, window_size=G.WINDOW_SIZE, batch_size=G.BATCH_SIZE, shuffle_buffer=G.SHUFFLE_BUFFER_SIZE):\n",
        "    ds = tf.data.Dataset.from_tensor_slices(series)\n",
        "    ds = ds.window(window_size + 1, shift=1, drop_remainder=True)\n",
        "    ds = ds.flat_map(lambda w: w.batch(window_size + 1))\n",
        "    ds = ds.shuffle(shuffle_buffer)\n",
        "    ds = ds.map(lambda w: (w[:-1], w[-1]))\n",
        "    ds = ds.batch(batch_size).prefetch(1)\n",
        "    return ds\n",
        "\n",
        "\n"
      ]
    },
    {
      "cell_type": "code",
      "execution_count": 13,
      "id": "270a95f1",
      "metadata": {
        "id": "270a95f1"
      },
      "outputs": [],
      "source": [
        "train_set = windowed_dataset(series_train,\n",
        "                             window_size=G.WINDOW_SIZE,\n",
        "                             batch_size=G.BATCH_SIZE,\n",
        "                             shuffle_buffer=G.SHUFFLE_BUFFER_SIZE)"
      ]
    },
    {
      "cell_type": "code",
      "execution_count": 14,
      "id": "9e3be497",
      "metadata": {
        "id": "9e3be497"
      },
      "outputs": [],
      "source": [
        "def create_uncompiled_model():\n",
        "\n",
        "\n",
        "    model = tf.keras.models.Sequential([\n",
        "        tf.keras.layers.Conv1D(64, 3, padding='causal', activation='relu', input_shape=[G.WINDOW_SIZE, 1]),\n",
        "        tf.keras.layers.LSTM(64, return_sequences=True),\n",
        "        tf.keras.layers.LSTM(32),\n",
        "        tf.keras.layers.Dense(32, activation='relu'),\n",
        "        tf.keras.layers.Dense(1)\n",
        "    ])\n",
        "\n",
        "    return model"
      ]
    },
    {
      "cell_type": "code",
      "execution_count": 15,
      "id": "d3ba5316",
      "metadata": {
        "colab": {
          "base_uri": "https://localhost:8080/"
        },
        "id": "d3ba5316",
        "outputId": "be09744d-7383-469e-98c8-fae830dd390f"
      },
      "outputs": [
        {
          "output_type": "stream",
          "name": "stdout",
          "text": [
            "Testing model prediction with input of shape (32, 64)...\n",
            "1/1 [==============================] - 2s 2s/step\n",
            "Your current architecture is compatible with the windowed dataset! :)\n"
          ]
        }
      ],
      "source": [
        "\n",
        "uncompiled_model = create_uncompiled_model()\n",
        "\n",
        "# Get one batch of the training set(X = input, y = label)\n",
        "for X, y in train_set.take(1):\n",
        "\n",
        "    # Generate a prediction\n",
        "    print(f'Testing model prediction with input of shape {X.shape}...')\n",
        "    y_pred = uncompiled_model.predict(X)\n",
        "\n",
        "# Compare the shape of the prediction and the label y (remove dimensions of size 1)\n",
        "y_pred_shape = y_pred.squeeze().shape\n",
        "\n",
        "assert y_pred_shape == y.shape, (f'Squeezed predicted y shape = {y_pred_shape} '\n",
        "                                           f'whereas actual y shape = {y.shape}.')\n",
        "\n",
        "print(\"Your current architecture is compatible with the windowed dataset! :)\")"
      ]
    },
    {
      "cell_type": "code",
      "execution_count": 16,
      "id": "cc335415",
      "metadata": {
        "id": "cc335415"
      },
      "outputs": [],
      "source": [
        "def create_model():\n",
        "\n",
        "    model = create_uncompiled_model()\n",
        "\n",
        "    model.compile(loss='huber',\n",
        "                  optimizer='adam',\n",
        "                  metrics=[\"mae\"])\n",
        "    return model"
      ]
    },
    {
      "cell_type": "code",
      "execution_count": 17,
      "id": "29223936",
      "metadata": {
        "colab": {
          "base_uri": "https://localhost:8080/"
        },
        "id": "29223936",
        "outputId": "a61b56e5-3b83-41a6-ad46-7674d628003c"
      },
      "outputs": [
        {
          "output_type": "stream",
          "name": "stdout",
          "text": [
            "Epoch 1/50\n",
            "77/77 [==============================] - 9s 16ms/step - loss: 5.4834 - mae: 5.9643\n",
            "Epoch 2/50\n",
            "77/77 [==============================] - 1s 15ms/step - loss: 2.6971 - mae: 3.1615\n",
            "Epoch 3/50\n",
            "77/77 [==============================] - 2s 26ms/step - loss: 2.1169 - mae: 2.5720\n",
            "Epoch 4/50\n",
            "77/77 [==============================] - 1s 15ms/step - loss: 1.7185 - mae: 2.1686\n",
            "Epoch 5/50\n",
            "77/77 [==============================] - 1s 15ms/step - loss: 1.5825 - mae: 2.0280\n",
            "Epoch 6/50\n",
            "77/77 [==============================] - 1s 15ms/step - loss: 1.5303 - mae: 1.9731\n",
            "Epoch 7/50\n",
            "77/77 [==============================] - 1s 15ms/step - loss: 1.5260 - mae: 1.9682\n",
            "Epoch 8/50\n",
            "77/77 [==============================] - 1s 15ms/step - loss: 1.5170 - mae: 1.9622\n",
            "Epoch 9/50\n",
            "77/77 [==============================] - 1s 15ms/step - loss: 1.5068 - mae: 1.9454\n",
            "Epoch 10/50\n",
            "77/77 [==============================] - 2s 21ms/step - loss: 1.5114 - mae: 1.9532\n",
            "Epoch 11/50\n",
            "77/77 [==============================] - 1s 15ms/step - loss: 1.5167 - mae: 1.9580\n",
            "Epoch 12/50\n",
            "77/77 [==============================] - 1s 15ms/step - loss: 1.5031 - mae: 1.9468\n",
            "Epoch 13/50\n",
            "77/77 [==============================] - 1s 15ms/step - loss: 1.4849 - mae: 1.9276\n",
            "Epoch 14/50\n",
            "77/77 [==============================] - 1s 15ms/step - loss: 1.4963 - mae: 1.9368\n",
            "Epoch 15/50\n",
            "77/77 [==============================] - 2s 20ms/step - loss: 1.4778 - mae: 1.9190\n",
            "Epoch 16/50\n",
            "77/77 [==============================] - 1s 17ms/step - loss: 1.4619 - mae: 1.8990\n",
            "Epoch 17/50\n",
            "77/77 [==============================] - 1s 15ms/step - loss: 1.4884 - mae: 1.9298\n",
            "Epoch 18/50\n",
            "77/77 [==============================] - 1s 15ms/step - loss: 1.4826 - mae: 1.9222\n",
            "Epoch 19/50\n",
            "77/77 [==============================] - 1s 15ms/step - loss: 1.5066 - mae: 1.9477\n",
            "Epoch 20/50\n",
            "77/77 [==============================] - 1s 15ms/step - loss: 1.4948 - mae: 1.9340\n",
            "Epoch 21/50\n",
            "77/77 [==============================] - 1s 15ms/step - loss: 1.4694 - mae: 1.9090\n",
            "Epoch 22/50\n",
            "77/77 [==============================] - 1s 15ms/step - loss: 1.4784 - mae: 1.9160\n",
            "Epoch 23/50\n",
            "77/77 [==============================] - 2s 24ms/step - loss: 1.4741 - mae: 1.9123\n",
            "Epoch 24/50\n",
            "77/77 [==============================] - 2s 16ms/step - loss: 1.4636 - mae: 1.9014\n",
            "Epoch 25/50\n",
            "77/77 [==============================] - 1s 15ms/step - loss: 1.4593 - mae: 1.8975\n",
            "Epoch 26/50\n",
            "77/77 [==============================] - 1s 15ms/step - loss: 1.4727 - mae: 1.9120\n",
            "Epoch 27/50\n",
            "77/77 [==============================] - 1s 15ms/step - loss: 1.4548 - mae: 1.8930\n",
            "Epoch 28/50\n",
            "77/77 [==============================] - 1s 15ms/step - loss: 1.4632 - mae: 1.9009\n",
            "Epoch 29/50\n",
            "77/77 [==============================] - 1s 14ms/step - loss: 1.4581 - mae: 1.8963\n",
            "Epoch 30/50\n",
            "77/77 [==============================] - 1s 15ms/step - loss: 1.4580 - mae: 1.8955\n",
            "Epoch 31/50\n",
            "77/77 [==============================] - 1s 16ms/step - loss: 1.4609 - mae: 1.9002\n",
            "Epoch 32/50\n",
            "77/77 [==============================] - 1s 15ms/step - loss: 1.4805 - mae: 1.9195\n",
            "Epoch 33/50\n",
            "77/77 [==============================] - 1s 15ms/step - loss: 1.4720 - mae: 1.9102\n",
            "Epoch 34/50\n",
            "77/77 [==============================] - 1s 15ms/step - loss: 1.4545 - mae: 1.8918\n",
            "Epoch 35/50\n",
            "77/77 [==============================] - 1s 15ms/step - loss: 1.4600 - mae: 1.9001\n",
            "Epoch 36/50\n",
            "77/77 [==============================] - 1s 15ms/step - loss: 1.4677 - mae: 1.9039\n",
            "Epoch 37/50\n",
            "77/77 [==============================] - 1s 16ms/step - loss: 1.4488 - mae: 1.8843\n",
            "Epoch 38/50\n",
            "77/77 [==============================] - 2s 24ms/step - loss: 1.4458 - mae: 1.8835\n",
            "Epoch 39/50\n",
            "77/77 [==============================] - 1s 15ms/step - loss: 1.4418 - mae: 1.8773\n",
            "Epoch 40/50\n",
            "77/77 [==============================] - 1s 15ms/step - loss: 1.4495 - mae: 1.8859\n",
            "Epoch 41/50\n",
            "77/77 [==============================] - 1s 15ms/step - loss: 1.4822 - mae: 1.9203\n",
            "Epoch 42/50\n",
            "77/77 [==============================] - 1s 15ms/step - loss: 1.4525 - mae: 1.8918\n",
            "Epoch 43/50\n",
            "77/77 [==============================] - 1s 15ms/step - loss: 1.4393 - mae: 1.8749\n",
            "Epoch 44/50\n",
            "77/77 [==============================] - 2s 25ms/step - loss: 1.4458 - mae: 1.8805\n",
            "Epoch 45/50\n",
            "77/77 [==============================] - 1s 15ms/step - loss: 1.4383 - mae: 1.8715\n",
            "Epoch 46/50\n",
            "77/77 [==============================] - 1s 15ms/step - loss: 1.4340 - mae: 1.8708\n",
            "Epoch 47/50\n",
            "77/77 [==============================] - 1s 15ms/step - loss: 1.4402 - mae: 1.8754\n",
            "Epoch 48/50\n",
            "77/77 [==============================] - 1s 15ms/step - loss: 1.4502 - mae: 1.8858\n",
            "Epoch 49/50\n",
            "77/77 [==============================] - 1s 17ms/step - loss: 1.4231 - mae: 1.8577\n",
            "Epoch 50/50\n",
            "77/77 [==============================] - 2s 24ms/step - loss: 1.4467 - mae: 1.8828\n"
          ]
        }
      ],
      "source": [
        "model = create_model()\n",
        "\n",
        "history = model.fit(train_set, epochs=50)"
      ]
    },
    {
      "cell_type": "code",
      "execution_count": 18,
      "id": "98801ed6",
      "metadata": {
        "id": "98801ed6"
      },
      "outputs": [],
      "source": [
        "def compute_metrics(true_series, forecast):\n",
        "\n",
        "    mse = tf.keras.metrics.mean_squared_error(true_series, forecast).numpy()\n",
        "    mae = tf.keras.metrics.mean_absolute_error(true_series, forecast).numpy()\n",
        "\n",
        "    return mse, mae"
      ]
    },
    {
      "cell_type": "code",
      "execution_count": 19,
      "id": "8504f3b8",
      "metadata": {
        "id": "8504f3b8"
      },
      "outputs": [],
      "source": [
        "def model_forecast(model, series, window_size):\n",
        "    ds = tf.data.Dataset.from_tensor_slices(series)\n",
        "    ds = ds.window(window_size, shift=1, drop_remainder=True)\n",
        "    ds = ds.flat_map(lambda w: w.batch(window_size))\n",
        "    ds = ds.batch(32).prefetch(1)\n",
        "    forecast = model.predict(ds)\n",
        "    return forecast"
      ]
    },
    {
      "cell_type": "code",
      "execution_count": 20,
      "id": "b2b28ff9",
      "metadata": {
        "colab": {
          "base_uri": "https://localhost:8080/",
          "height": 331
        },
        "id": "b2b28ff9",
        "outputId": "582ecb1b-f619-46a5-c8e6-cc16adcdbe6f"
      },
      "outputs": [
        {
          "output_type": "stream",
          "name": "stdout",
          "text": [
            "113/113 [==============================] - 2s 8ms/step\n"
          ]
        },
        {
          "output_type": "display_data",
          "data": {
            "text/plain": [
              "<Figure size 500x300 with 1 Axes>"
            ],
            "image/png": "[encoded data removed]"
          },
          "metadata": {}
        }
      ],
      "source": [
        "rnn_forecast = model_forecast(model, G.SERIES, G.WINDOW_SIZE).squeeze()\n",
        "\n",
        "rnn_forecast = rnn_forecast[G.SPLIT_TIME - G.WINDOW_SIZE:-1]\n",
        "\n",
        "# Plot the forecast\n",
        "plt.figure(figsize=(5, 3))\n",
        "plot_series(time_valid, series_valid)\n",
        "plot_series(time_valid, rnn_forecast)"
      ]
    },
    {
      "cell_type": "code",
      "execution_count": 21,
      "id": "4ff16876",
      "metadata": {
        "colab": {
          "base_uri": "https://localhost:8080/"
        },
        "id": "4ff16876",
        "outputId": "5b0cdbe6-5e73-4572-de74-d02ed9d29d02"
      },
      "outputs": [
        {
          "output_type": "stream",
          "name": "stdout",
          "text": [
            "mse: 5.12, mae: 1.77 for forecast\n"
          ]
        }
      ],
      "source": [
        "mse, mae = compute_metrics(series_valid, rnn_forecast)\n",
        "\n",
        "print(f\"mse: {mse:.2f}, mae: {mae:.2f} for forecast\")"
      ]
    },
    {
      "cell_type": "code",
      "execution_count": 22,
      "id": "c1a1a084",
      "metadata": {
        "id": "c1a1a084"
      },
      "outputs": [],
      "source": [
        "def predict_temperature(model, series, window_size, date):\n",
        "    # Prepare the input data for prediction\n",
        "    input_data = series[-window_size:]  # Use the most recent window of data\n",
        "    input_data = np.expand_dims(input_data, axis=0)  # Add batch dimension\n",
        "    # Generate prediction\n",
        "    forecast = model.predict(input_data).flatten()\n",
        "    # Return the forecasted temperature for the given date\n",
        "    return forecast[0]\n",
        "\n"
      ]
    },
    {
      "cell_type": "code",
      "execution_count": 23,
      "id": "e174c69f",
      "metadata": {
        "colab": {
          "base_uri": "https://localhost:8080/"
        },
        "id": "e174c69f",
        "outputId": "13161c17-4282-46dc-f85f-a92f93ec2e17"
      },
      "outputs": [
        {
          "output_type": "stream",
          "name": "stdout",
          "text": [
            "1/1 [==============================] - 1s 1s/step\n",
            "The forecasted temperature for 2024-03-05 is 13.43 degrees Celsius.\n"
          ]
        }
      ],
      "source": [
        "# Example usage:\n",
        "date_to_predict = '2024-03-05'  # Date to predict temperature for\n",
        "forecasted_temperature = predict_temperature(model, G.SERIES, G.WINDOW_SIZE, date_to_predict)\n",
        "print(f\"The forecasted temperature for {date_to_predict} is {forecasted_temperature:.2f} degrees Celsius.\")\n"
      ]
    },
    {
      "cell_type": "code",
      "execution_count": 23,
      "id": "c1c184a9",
      "metadata": {
        "id": "c1c184a9"
      },
      "outputs": [],
      "source": []
    }
  ],
  "metadata": {
    "kernelspec": {
      "display_name": "Python 3",
      "name": "python3"
    },
    "language_info": {
      "codemirror_mode": {
        "name": "ipython",
        "version": 3
      },
      "file_extension": ".py",
      "mimetype": "text/x-python",
      "name": "python",
      "nbconvert_exporter": "python",
      "pygments_lexer": "ipython3",
      "version": "3.11.5"
    },
    "colab": {
      "provenance": [],
      "gpuType": "T4",
      "include_colab_link": true
    },
    "accelerator": "GPU"
  },
  "nbformat": 4,
  "nbformat_minor": 5
}