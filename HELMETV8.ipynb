{
  "nbformat": 4,
  "nbformat_minor": 0,
  "metadata": {
    "colab": {
      "private_outputs": true,
      "provenance": [],
      "gpuType": "T4",
      "mount_file_id": "1zS6z4VYPA2huzj1cfTc4Z3kZNKp1AJWt",
      "authorship_tag": "ABX9TyM0o4I8iiuTwJvlo2V2v4C9",
      "include_colab_link": true
    },
    "kernelspec": {
      "name": "python3",
      "display_name": "Python 3"
    },
    "language_info": {
      "name": "python"
    },
    "accelerator": "GPU"
  },
  "cells": [
    {
      "cell_type": "markdown",
      "metadata": {
        "id": "view-in-github",
        "colab_type": "text"
      },
      "source": [
        "<a href=\"https://colab.research.google.com/github/NightPrinceY/CollegeForFun/blob/main/HELMETV8.ipynb\" target=\"_parent\"><img src=\"https://colab.research.google.com/assets/colab-badge.svg\" alt=\"Open In Colab\"/></a>"
      ]
    },
    {
      "cell_type": "code",
      "execution_count": null,
      "metadata": {
        "id": "6SHcE-7Geb8-"
      },
      "outputs": [],
      "source": [
        "!nvidia-smi"
      ]
    },
    {
      "cell_type": "code",
      "source": [
        "!pip install ultralytics"
      ],
      "metadata": {
        "id": "NL0Z9dskenAq"
      },
      "execution_count": null,
      "outputs": []
    },
    {
      "cell_type": "code",
      "source": [
        "from ultralytics import YOLO"
      ],
      "metadata": {
        "id": "W8GJPuLte_rl"
      },
      "execution_count": null,
      "outputs": []
    },
    {
      "cell_type": "code",
      "source": [
        "#import os\n",
        "from IPython.display import Image\n",
        "from IPython import display\n",
        "display.clear_output()\n",
        "!yolo checks"
      ],
      "metadata": {
        "id": "-1VV8T-YfDym"
      },
      "execution_count": null,
      "outputs": []
    },
    {
      "cell_type": "code",
      "source": [
        "!pip install roboflow\n",
        "\n",
        "from roboflow import Roboflow\n",
        "rf = Roboflow(api_key=\"ZGQ6UkahMugHBcfUWc63\")\n",
        "project = rf.workspace(\"mawada-zaki-qy0xq\").project(\"helmet-uv98h\")\n",
        "dataset = project.version(2).download(\"yolov8\")"
      ],
      "metadata": {
        "id": "H40ugL-CxWwn"
      },
      "execution_count": null,
      "outputs": []
    },
    {
      "cell_type": "code",
      "source": [
        "!yolo task = detect mode = train model = yolov8m.pt data = {dataset.location}/data.yaml epochs = 20 imgsz = 640"
      ],
      "metadata": {
        "id": "ZP52ZBtChZWP"
      },
      "execution_count": null,
      "outputs": []
    },
    {
      "cell_type": "code",
      "source": [
        "Image(filename = f'/content/runs/detect/train2/F1_curve.png',width = 400)"
      ],
      "metadata": {
        "id": "O-lWUmtM1igq"
      },
      "execution_count": null,
      "outputs": []
    },
    {
      "cell_type": "code",
      "source": [
        "Image(filename = f'/content/runs/detect/train2/train_batch0.jpg',width = 400)"
      ],
      "metadata": {
        "id": "8iZTQ8eL1i21"
      },
      "execution_count": null,
      "outputs": []
    },
    {
      "cell_type": "code",
      "source": [
        "Image(filename = f'/content/runs/detect/train2/train_batch191.jpg',width = 400)"
      ],
      "metadata": {
        "id": "OaeFWm9E1i6S"
      },
      "execution_count": null,
      "outputs": []
    },
    {
      "cell_type": "code",
      "source": [
        "Image(filename = f'/content/runs/detect/train2/results.png',width = 400)"
      ],
      "metadata": {
        "id": "t78gA1pp2MQ5"
      },
      "execution_count": null,
      "outputs": []
    },
    {
      "cell_type": "code",
      "source": [
        "from PIL import Image\n",
        "import matplotlib.pyplot as plt\n",
        "\n",
        "# Provide the path to your image file\n",
        "image_path = f'/content/runs/detect/train2/results.png'\n",
        "\n",
        "# Open the image file\n",
        "image = Image.open(image_path)\n",
        "\n",
        "# Display the image\n",
        "plt.imshow(image)\n",
        "plt.axis('off')  # Remove the axes\n",
        "plt.show()"
      ],
      "metadata": {
        "id": "q8vTN0qPdeIU"
      },
      "execution_count": null,
      "outputs": []
    },
    {
      "cell_type": "code",
      "source": [
        "Image(filename = f'/content/runs/detect/train/val_batch0_labels.jpg',width = 400)"
      ],
      "metadata": {
        "id": "uU0RlAuK2MTG"
      },
      "execution_count": null,
      "outputs": []
    },
    {
      "cell_type": "code",
      "source": [
        "!yolo task = detect mode = val  model = /content/runs/detect/train/weights/best.pt  data = {dataset.location}/data.yaml"
      ],
      "metadata": {
        "id": "klSzMNklpvWa"
      },
      "execution_count": null,
      "outputs": []
    },
    {
      "cell_type": "code",
      "source": [
        "Image(filename = f'/content/runs/detect/val/R_curve.png',width = 400)"
      ],
      "metadata": {
        "id": "Hzd6l63RNmLA"
      },
      "execution_count": null,
      "outputs": []
    },
    {
      "cell_type": "code",
      "source": [
        "Image(filename = f'/content/runs/detect/val/val_batch0_labels.jpg',width = 400)"
      ],
      "metadata": {
        "id": "L1PIk6VP4H9A"
      },
      "execution_count": null,
      "outputs": []
    },
    {
      "cell_type": "code",
      "source": [
        "Image(filename = f'/content/runs/detect/val/PR_curve.png',width = 400)"
      ],
      "metadata": {
        "id": "fSTITGUj4WV4"
      },
      "execution_count": null,
      "outputs": []
    },
    {
      "cell_type": "code",
      "source": [
        "Image(filename = f'/content/runs/detect/val/val_batch2_pred.jpg',width = 400)"
      ],
      "metadata": {
        "id": "-X3BRUf54Wix"
      },
      "execution_count": null,
      "outputs": []
    },
    {
      "cell_type": "code",
      "source": [
        "Image(filename = f'/content/runs/detect/val/PR_curve.png',width = 400)"
      ],
      "metadata": {
        "id": "WyS329VM5sIp"
      },
      "execution_count": null,
      "outputs": []
    },
    {
      "cell_type": "code",
      "source": [
        "!yolo task = detect mode = predict  model = /content/runs/detect/train/weights/best.pt conf = 0.5 source = /content/Helmet-2/test/images/BikesHelmets134_png.rf.e99faf300a4ee2d62d57e7af8f7ce143.jpg"
      ],
      "metadata": {
        "id": "Wq1ZIC5w6Qmn"
      },
      "execution_count": null,
      "outputs": []
    },
    {
      "cell_type": "code",
      "source": [
        "Image(filename = f'/content/runs/detect/predict/BikesHelmets134_png.rf.e99faf300a4ee2d62d57e7af8f7ce143.jpg',width = 400)"
      ],
      "metadata": {
        "id": "4vwJJGjp6Qo3"
      },
      "execution_count": null,
      "outputs": []
    },
    {
      "cell_type": "code",
      "source": [
        "!yolo task = detect mode = predict  model = /content/runs/detect/train3/weights/best.pt conf = 0.5 source =/content/Helmet-2/test/images/BikesHelmets225_png.rf.091e948edf106cdd95b796ed0fe8e8f2.jpg"
      ],
      "metadata": {
        "id": "nFpGwpZb6Qsb"
      },
      "execution_count": null,
      "outputs": []
    },
    {
      "cell_type": "code",
      "source": [
        "Image(filename = f'/content/runs/detect/predict3/BikesHelmets225_png.rf.091e948edf106cdd95b796ed0fe8e8f2.jpg',width = 400)"
      ],
      "metadata": {
        "id": "RZ3tSEE28KNa"
      },
      "execution_count": null,
      "outputs": []
    },
    {
      "cell_type": "code",
      "source": [
        "!yolo task = detect mode = predict  model = /content/runs/detect/train3/weights/best.pt conf = 0.5 source =/content/drive/MyDrive/video_2023-12-16_19-59-43.mp4"
      ],
      "metadata": {
        "id": "zjni2Z1L8XH8"
      },
      "execution_count": null,
      "outputs": []
    },
    {
      "cell_type": "code",
      "source": [],
      "metadata": {
        "id": "I7h6RGez-JXP"
      },
      "execution_count": null,
      "outputs": []
    }
  ]
}