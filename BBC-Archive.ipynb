{
 "cells": [
  {
   "cell_type": "markdown",
   "id": "a112ce30",
   "metadata": {
    "papermill": {
     "duration": 0.01006,
     "end_time": "2024-01-31T19:26:24.446382",
     "exception": false,
     "start_time": "2024-01-31T19:26:24.436322",
     "status": "completed"
    },
    "tags": []
   },
   "source": [
    "# BBC Archive (public project) - Yahya Alnwsany"
   ]
  },
  {
   "cell_type": "code",
   "execution_count": 1,
   "id": "4ffd6a11",
   "metadata": {
    "execution": {
     "iopub.execute_input": "2024-01-31T19:26:24.467453Z",
     "iopub.status.busy": "2024-01-31T19:26:24.466501Z",
     "iopub.status.idle": "2024-01-31T19:26:42.403074Z",
     "shell.execute_reply": "2024-01-31T19:26:42.401977Z"
    },
    "id": "gnwiOnGyW5JK",
    "papermill": {
     "duration": 17.95017,
     "end_time": "2024-01-31T19:26:42.406007",
     "exception": false,
     "start_time": "2024-01-31T19:26:24.455837",
     "status": "completed"
    },
    "tags": [
     "graded"
    ]
   },
   "outputs": [
    {
     "name": "stderr",
     "output_type": "stream",
     "text": [
      "2024-01-31 19:26:26.986362: E external/local_xla/xla/stream_executor/cuda/cuda_dnn.cc:9261] Unable to register cuDNN factory: Attempting to register factory for plugin cuDNN when one has already been registered\n",
      "2024-01-31 19:26:26.986545: E external/local_xla/xla/stream_executor/cuda/cuda_fft.cc:607] Unable to register cuFFT factory: Attempting to register factory for plugin cuFFT when one has already been registered\n",
      "2024-01-31 19:26:27.186850: E external/local_xla/xla/stream_executor/cuda/cuda_blas.cc:1515] Unable to register cuBLAS factory: Attempting to register factory for plugin cuBLAS when one has already been registered\n"
     ]
    }
   ],
   "source": [
    "import io\n",
    "import csv\n",
    "import tensorflow as tf\n",
    "import numpy as np\n",
    "from tensorflow.keras.preprocessing.text import Tokenizer\n",
    "from tensorflow.keras.preprocessing.sequence import pad_sequences\n",
    "import matplotlib.pyplot as plt"
   ]
  },
  {
   "cell_type": "code",
   "execution_count": 2,
   "id": "ceefd218",
   "metadata": {
    "execution": {
     "iopub.execute_input": "2024-01-31T19:26:42.428364Z",
     "iopub.status.busy": "2024-01-31T19:26:42.427672Z",
     "iopub.status.idle": "2024-01-31T19:26:42.446537Z",
     "shell.execute_reply": "2024-01-31T19:26:42.445470Z"
    },
    "papermill": {
     "duration": 0.032718,
     "end_time": "2024-01-31T19:26:42.449411",
     "exception": false,
     "start_time": "2024-01-31T19:26:42.416693",
     "status": "completed"
    },
    "tags": [
     "graded"
    ]
   },
   "outputs": [
    {
     "name": "stdout",
     "output_type": "stream",
     "text": [
      "First line (header) looks like this:\n",
      "\n",
      "category,text\n",
      "\n",
      "Each data point looks like this:\n",
      "\n",
      "tech,tv future in the hands of viewers with home theatre systems  plasma high-definition tvs  and digital video recorders moving into the living room  the way people watch tv will be radically different in five years  time.  that is according to an expert panel which gathered at the annual consumer electronics show in las vegas to discuss how these new technologies will impact one of our favourite pastimes. with the us leading the trend  programmes and other content will be delivered to viewers via home networks  through cable  satellite  telecoms companies  and broadband service providers to front rooms and portable devices.  one of the most talked-about technologies of ces has been digital and personal video recorders (dvr and pvr). these set-top boxes  like the us s tivo and the uk s sky+ system  allow people to record  store  play  pause and forward wind tv programmes when they want.  essentially  the technology allows for much more personalised tv. they are also being built-in to high-definition tv sets  which are big business in japan and the us  but slower to take off in europe because of the lack of high-definition programming. not only can people forward wind through adverts  they can also forget about abiding by network and channel schedules  putting together their own a-la-carte entertainment. but some us networks and cable and satellite companies are worried about what it means for them in terms of advertising revenues as well as  brand identity  and viewer loyalty to channels. although the us leads in this technology at the moment  it is also a concern that is being raised in europe  particularly with the growing uptake of services like sky+.  what happens here today  we will see in nine months to a years  time in the uk   adam hume  the bbc broadcast s futurologist told the bbc news website. for the likes of the bbc  there are no issues of lost advertising revenue yet. it is a more pressing issue at the moment for commercial uk broadcasters  but brand loyalty is important for everyone.  we will be talking more about content brands rather than network brands   said tim hanlon  from brand communications firm starcom mediavest.  the reality is that with broadband connections  anybody can be the producer of content.  he added:  the challenge now is that it is hard to promote a programme with so much choice.   what this means  said stacey jolna  senior vice president of tv guide tv group  is that the way people find the content they want to watch has to be simplified for tv viewers. it means that networks  in us terms  or channels could take a leaf out of google s book and be the search engine of the future  instead of the scheduler to help people find what they want to watch. this kind of channel model might work for the younger ipod generation which is used to taking control of their gadgets and what they play on them. but it might not suit everyone  the panel recognised. older generations are more comfortable with familiar schedules and channel brands because they know what they are getting. they perhaps do not want so much of the choice put into their hands  mr hanlon suggested.  on the other end  you have the kids just out of diapers who are pushing buttons already - everything is possible and available to them   said mr hanlon.  ultimately  the consumer will tell the market they want.   of the 50 000 new gadgets and technologies being showcased at ces  many of them are about enhancing the tv-watching experience. high-definition tv sets are everywhere and many new models of lcd (liquid crystal display) tvs have been launched with dvr capability built into them  instead of being external boxes. one such example launched at the show is humax s 26-inch lcd tv with an 80-hour tivo dvr and dvd recorder. one of the us s biggest satellite tv companies  directtv  has even launched its own branded dvr at the show with 100-hours of recording capability  instant replay  and a search function. the set can pause and rewind tv for up to 90 hours. and microsoft chief bill gates announced in his pre-show keynote speech a partnership with tivo  called tivotogo  which means people can play recorded programmes on windows pcs and mobile devices. all these reflect the increasing trend of freeing up multimedia so that people can watch what they want  when they want.\n",
      "\n"
     ]
    }
   ],
   "source": [
    "with open(\"/kaggle/input/bbc-archive/bbc-text.csv\", 'r') as csvfile:\n",
    "    print(f\"First line (header) looks like this:\\n\\n{csvfile.readline()}\")\n",
    "    print(f\"Each data point looks like this:\\n\\n{csvfile.readline()}\")"
   ]
  },
  {
   "cell_type": "code",
   "execution_count": 3,
   "id": "c03dfcd1",
   "metadata": {
    "execution": {
     "iopub.execute_input": "2024-01-31T19:26:42.471014Z",
     "iopub.status.busy": "2024-01-31T19:26:42.470525Z",
     "iopub.status.idle": "2024-01-31T19:26:42.476025Z",
     "shell.execute_reply": "2024-01-31T19:26:42.474819Z"
    },
    "papermill": {
     "duration": 0.019695,
     "end_time": "2024-01-31T19:26:42.478664",
     "exception": false,
     "start_time": "2024-01-31T19:26:42.458969",
     "status": "completed"
    },
    "tags": [
     "graded"
    ]
   },
   "outputs": [],
   "source": [
    "# variables we will need with padding and sequence (Tokenization)\n",
    "\n",
    "NUM_WORDS = 1000                   # the size of words in the voc\n",
    "EMBEDDING_DIM = 16                 #dim of the embedding which set to 16\n",
    "MAXLEN = 120                      #max lenght of sequence for senctece\n",
    "PADDING = 'post'                  #truncating which set to post \n",
    "OOV_TOKEN = \"<OOV>\"              #unkown words(out the vocab)\n",
    "TRAINING_SPLIT = .8              #size of training which set to 80% of data"
   ]
  },
  {
   "cell_type": "markdown",
   "id": "2baef044",
   "metadata": {
    "papermill": {
     "duration": 0.009296,
     "end_time": "2024-01-31T19:26:42.497811",
     "exception": false,
     "start_time": "2024-01-31T19:26:42.488515",
     "status": "completed"
    },
    "tags": []
   },
   "source": [
    "# preprocessing on the data\n",
    "\n",
    "what of the most important steps to make data ready for fitting \n",
    "extract the sentences and the labels in the file \n",
    "we will preprocess on the which remove stop words and split the data into train/val"
   ]
  },
  {
   "cell_type": "code",
   "execution_count": 4,
   "id": "3859ae26",
   "metadata": {
    "execution": {
     "iopub.execute_input": "2024-01-31T19:26:42.519460Z",
     "iopub.status.busy": "2024-01-31T19:26:42.518356Z",
     "iopub.status.idle": "2024-01-31T19:26:42.532202Z",
     "shell.execute_reply": "2024-01-31T19:26:42.530950Z"
    },
    "papermill": {
     "duration": 0.027866,
     "end_time": "2024-01-31T19:26:42.535216",
     "exception": false,
     "start_time": "2024-01-31T19:26:42.507350",
     "status": "completed"
    },
    "tags": [
     "graded"
    ]
   },
   "outputs": [],
   "source": [
    "\n",
    "def remove_stopwords(sentence):\n",
    "    \n",
    "     #sentence (string): sentence to remove the stopwords from\n",
    "    \n",
    "    \n",
    "    # List of stopwords\n",
    "    stopwords = [\"a\", \"about\", \"above\", \"after\", \"again\", \"against\", \"all\", \"am\",\"an\", \"and\", \"any\", \"are\", \"as\", \"at\", \"be\", \"because\", \"been\", \n",
    "                 \"before\", \"being\", \"below\", \"between\", \"both\", \"but\", \"by\", \"could\", \"did\", \"do\", \"does\", \"doing\", \"down\", \"during\", \"each\", \"few\", \"for\",\"from\", \"further\", \"had\", \"has\", \"have\", \"having\", \"he\", \"he'd\", \"he'll\",\"he's\", \"her\", \"here\", \"here's\", \"hers\", \"herself\", \"him\", \"himself\", \"his\",\"how\", \"how's\", \"i\", \"i'd\", \"i'll\", \"i'm\", \"i've\", \"if\", \"in\", \"into\", \"is\"\"it\", \"it's\", \"its\", \"itself\", \"let's\", \"me\", \"more\", \"most\", \"my\", \"myself\",\n",
    "                 \"nor\", \"of\", \"on\", \"once\", \"only\", \"or\", \"other\", \"ought\", \"our\", \"ours\", \"ourselves\",\"out\", \"over\", \"own\", \"same\", \"she\", \"she'd\", \"she'll\", \"she's\", \"should\", \"so\", \"some\",  \"such\", \"than\", \"that\", \"that's\", \"the\", \"their\", \"theirs\", \"them\", \"themselves\", \"then\", \"there\", \"there's\", \"these\", \"they\", \"they'd\", \"they'll\", \"they're\", \"they've\", \"this\",\"those\", \"through\", \"to\", \"too\", \"under\", \"until\", \"up\", \"very\", \"was\", \"we\", \"we'd\", \"we'll\", \"we're\", \"we've\", \"were\", \"what\", \"what's\", \"when\", \"when's\", \"where\", \"where's\", \"which\", \"while\", \"who\", \"who's\", \"whom\", \"why\", \"why's\", \"with\", \"would\", \"you\", \"you'd\", \"you'll\", \"you're\", \"you've\", \"your\", \"yours\", \"yourself\", \"yourselves\" ]\n",
    "    \n",
    "    # Sentence converted to lowercase-only\n",
    "    sentence = sentence.lower()\n",
    "\n",
    "    words = sentence.split()\n",
    "    no_words = [w for w in words if w not in stopwords]\n",
    "    sentence = \" \".join(no_words)\n",
    "\n",
    "    return sentence\n"
   ]
  },
  {
   "cell_type": "code",
   "execution_count": 5,
   "id": "6105c103",
   "metadata": {
    "execution": {
     "iopub.execute_input": "2024-01-31T19:26:42.556984Z",
     "iopub.status.busy": "2024-01-31T19:26:42.556117Z",
     "iopub.status.idle": "2024-01-31T19:26:42.564323Z",
     "shell.execute_reply": "2024-01-31T19:26:42.563120Z"
    },
    "papermill": {
     "duration": 0.022186,
     "end_time": "2024-01-31T19:26:42.567217",
     "exception": false,
     "start_time": "2024-01-31T19:26:42.545031",
     "status": "completed"
    },
    "tags": []
   },
   "outputs": [],
   "source": [
    "def parse_data_from_file(filename):\n",
    "    \n",
    "    #Extracts sentences and labels from a CSV file\n",
    "    \n",
    "    sentences = []   \n",
    "    labels = []\n",
    "    with open(filename, 'r') as csvfile:\n",
    "        reader = csv.reader(csvfile, delimiter=',')\n",
    "        next(reader)\n",
    "        for row in reader:\n",
    "            labels.append(row[0])\n",
    "            sentence = row[1]\n",
    "            sentence = remove_stopwords(sentence)\n",
    "            sentences.append(sentence)\n",
    "\n",
    "    return sentences, labels"
   ]
  },
  {
   "cell_type": "code",
   "execution_count": 6,
   "id": "c4a1b3f7",
   "metadata": {
    "execution": {
     "iopub.execute_input": "2024-01-31T19:26:42.588240Z",
     "iopub.status.busy": "2024-01-31T19:26:42.587591Z",
     "iopub.status.idle": "2024-01-31T19:26:44.423574Z",
     "shell.execute_reply": "2024-01-31T19:26:44.422389Z"
    },
    "papermill": {
     "duration": 1.849534,
     "end_time": "2024-01-31T19:26:44.426252",
     "exception": false,
     "start_time": "2024-01-31T19:26:42.576718",
     "status": "completed"
    },
    "tags": [
     "graded"
    ]
   },
   "outputs": [
    {
     "name": "stdout",
     "output_type": "stream",
     "text": [
      "There are 2225 sentences in the dataset.\n",
      "\n",
      "First sentence has 454 words (after removing stopwords).\n",
      "\n",
      "There are 2225 labels in the dataset.\n",
      "\n",
      "The first 5 labels are ['tech', 'business', 'sport', 'sport', 'entertainment']\n"
     ]
    }
   ],
   "source": [
    "sentences, labels = parse_data_from_file(\"/kaggle/input/bbc-archive/bbc-text.csv\")\n",
    "\n",
    "print(f\"There are {len(sentences)} sentences in the dataset.\\n\")\n",
    "print(f\"First sentence has {len(sentences[0].split())} words (after removing stopwords).\\n\")\n",
    "print(f\"There are {len(labels)} labels in the dataset.\\n\")\n",
    "print(f\"The first 5 labels are {labels[:5]}\")"
   ]
  },
  {
   "cell_type": "code",
   "execution_count": 7,
   "id": "4df444e9",
   "metadata": {
    "execution": {
     "iopub.execute_input": "2024-01-31T19:26:44.449006Z",
     "iopub.status.busy": "2024-01-31T19:26:44.448626Z",
     "iopub.status.idle": "2024-01-31T19:26:44.455037Z",
     "shell.execute_reply": "2024-01-31T19:26:44.454185Z"
    },
    "papermill": {
     "duration": 0.021018,
     "end_time": "2024-01-31T19:26:44.457476",
     "exception": false,
     "start_time": "2024-01-31T19:26:44.436458",
     "status": "completed"
    },
    "tags": [
     "graded"
    ]
   },
   "outputs": [],
   "source": [
    "def train_val_split(sentences, labels, training_split):\n",
    "    \n",
    "    \n",
    "    \n",
    "    \n",
    "    # Compute the number of sentences that will be used for training (should be an integer)\n",
    "    train_size = int(training_split * len(sentences))\n",
    "\n",
    "    # Split the sentences and labels into train/validation splits\n",
    "    train_sentences = sentences[:train_size]\n",
    "    train_labels = labels[:train_size]\n",
    "\n",
    "    validation_sentences = sentences[train_size:]\n",
    "    validation_labels = labels[train_size:]\n",
    "    \n",
    "    \n",
    "    return train_sentences, validation_sentences, train_labels, validation_labels"
   ]
  },
  {
   "cell_type": "code",
   "execution_count": 8,
   "id": "c27e86c5",
   "metadata": {
    "execution": {
     "iopub.execute_input": "2024-01-31T19:26:44.485491Z",
     "iopub.status.busy": "2024-01-31T19:26:44.484490Z",
     "iopub.status.idle": "2024-01-31T19:26:44.492128Z",
     "shell.execute_reply": "2024-01-31T19:26:44.490729Z"
    },
    "papermill": {
     "duration": 0.021465,
     "end_time": "2024-01-31T19:26:44.494740",
     "exception": false,
     "start_time": "2024-01-31T19:26:44.473275",
     "status": "completed"
    },
    "tags": [
     "graded"
    ]
   },
   "outputs": [
    {
     "name": "stdout",
     "output_type": "stream",
     "text": [
      "There are 1780 sentences for training.\n",
      "\n",
      "There are 1780 labels for training.\n",
      "\n",
      "There are 445 sentences for validation.\n",
      "\n",
      "There are 445 labels for validation.\n"
     ]
    }
   ],
   "source": [
    "train_sentences, val_sentences, train_labels, val_labels = train_val_split(sentences, labels, TRAINING_SPLIT)\n",
    "\n",
    "print(f\"There are {len(train_sentences)} sentences for training.\\n\")\n",
    "print(f\"There are {len(train_labels)} labels for training.\\n\")\n",
    "print(f\"There are {len(val_sentences)} sentences for validation.\\n\")\n",
    "print(f\"There are {len(val_labels)} labels for validation.\")"
   ]
  },
  {
   "cell_type": "markdown",
   "id": "f6a63dd4",
   "metadata": {
    "papermill": {
     "duration": 0.009471,
     "end_time": "2024-01-31T19:26:44.514106",
     "exception": false,
     "start_time": "2024-01-31T19:26:44.504635",
     "status": "completed"
    },
    "tags": []
   },
   "source": [
    "we start steps of nlp as tokenization the sentences"
   ]
  },
  {
   "cell_type": "code",
   "execution_count": 9,
   "id": "bbe7abea",
   "metadata": {
    "execution": {
     "iopub.execute_input": "2024-01-31T19:26:44.536786Z",
     "iopub.status.busy": "2024-01-31T19:26:44.535546Z",
     "iopub.status.idle": "2024-01-31T19:26:44.542374Z",
     "shell.execute_reply": "2024-01-31T19:26:44.540991Z"
    },
    "lines_to_next_cell": 2,
    "papermill": {
     "duration": 0.02145,
     "end_time": "2024-01-31T19:26:44.545228",
     "exception": false,
     "start_time": "2024-01-31T19:26:44.523778",
     "status": "completed"
    },
    "tags": [
     "graded"
    ]
   },
   "outputs": [],
   "source": [
    "def fit_tokenizer(train_sentences, num_words, oov_token):\n",
    "\n",
    "    \n",
    "    #the Tokenizer class\n",
    "    tokenizer = Tokenizer(num_words = num_words , oov_token = oov_token)\n",
    "    tokenizer.fit_on_texts(train_sentences)\n",
    "    \n",
    "    return tokenizer"
   ]
  },
  {
   "cell_type": "code",
   "execution_count": 10,
   "id": "3f30e452",
   "metadata": {
    "execution": {
     "iopub.execute_input": "2024-01-31T19:26:44.566902Z",
     "iopub.status.busy": "2024-01-31T19:26:44.566519Z",
     "iopub.status.idle": "2024-01-31T19:26:45.206495Z",
     "shell.execute_reply": "2024-01-31T19:26:45.205382Z"
    },
    "papermill": {
     "duration": 0.653966,
     "end_time": "2024-01-31T19:26:45.209084",
     "exception": false,
     "start_time": "2024-01-31T19:26:44.555118",
     "status": "completed"
    },
    "tags": [
     "graded"
    ]
   },
   "outputs": [
    {
     "name": "stdout",
     "output_type": "stream",
     "text": [
      "Vocabulary contains 27285 words\n",
      "\n",
      "<OOV> token included in vocabulary\n"
     ]
    }
   ],
   "source": [
    "tokenizer = fit_tokenizer(train_sentences, NUM_WORDS, OOV_TOKEN)\n",
    "word_index = tokenizer.word_index\n",
    "\n",
    "print(f\"Vocabulary contains {len(word_index)} words\\n\")\n",
    "print(\"<OOV> token included in vocabulary\" if \"<OOV>\" in word_index else \"<OOV> token NOT included in vocabulary\")"
   ]
  },
  {
   "cell_type": "markdown",
   "id": "8b1074a4",
   "metadata": {
    "papermill": {
     "duration": 0.01039,
     "end_time": "2024-01-31T19:26:45.229239",
     "exception": false,
     "start_time": "2024-01-31T19:26:45.218849",
     "status": "completed"
    },
    "tags": []
   },
   "source": [
    "convert the sentece to sequence and convert the seq to padd"
   ]
  },
  {
   "cell_type": "code",
   "execution_count": 11,
   "id": "11e5763c",
   "metadata": {
    "execution": {
     "iopub.execute_input": "2024-01-31T19:26:45.252032Z",
     "iopub.status.busy": "2024-01-31T19:26:45.251564Z",
     "iopub.status.idle": "2024-01-31T19:26:45.258540Z",
     "shell.execute_reply": "2024-01-31T19:26:45.256983Z"
    },
    "papermill": {
     "duration": 0.021508,
     "end_time": "2024-01-31T19:26:45.261120",
     "exception": false,
     "start_time": "2024-01-31T19:26:45.239612",
     "status": "completed"
    },
    "tags": [
     "graded"
    ]
   },
   "outputs": [],
   "source": [
    "def seq_and_pad(sentences, tokenizer, padding, maxlen):\n",
    "  \n",
    "       \n",
    "    # Convert sentences to sequences\n",
    "    sequences = tokenizer.texts_to_sequences(sentences)\n",
    "    \n",
    "    # Pad the sequences using the correct padding and maxlen\n",
    "    padded_sequences = pad_sequences(sequences , maxlen = maxlen , padding = padding )\n",
    "    \n",
    "   \n",
    "    \n",
    "    return padded_sequences"
   ]
  },
  {
   "cell_type": "code",
   "execution_count": 12,
   "id": "59b96499",
   "metadata": {
    "execution": {
     "iopub.execute_input": "2024-01-31T19:26:45.283568Z",
     "iopub.status.busy": "2024-01-31T19:26:45.283114Z",
     "iopub.status.idle": "2024-01-31T19:26:45.877553Z",
     "shell.execute_reply": "2024-01-31T19:26:45.876239Z"
    },
    "papermill": {
     "duration": 0.608487,
     "end_time": "2024-01-31T19:26:45.880216",
     "exception": false,
     "start_time": "2024-01-31T19:26:45.271729",
     "status": "completed"
    },
    "tags": [
     "graded"
    ]
   },
   "outputs": [
    {
     "name": "stdout",
     "output_type": "stream",
     "text": [
      "Padded training sequences have shape: (1780, 120)\n",
      "\n",
      "Padded validation sequences have shape: (445, 120)\n"
     ]
    }
   ],
   "source": [
    "train_padded_seq = seq_and_pad(train_sentences, tokenizer, PADDING, MAXLEN)\n",
    "val_padded_seq = seq_and_pad(val_sentences, tokenizer, PADDING, MAXLEN)\n",
    "\n",
    "print(f\"Padded training sequences have shape: {train_padded_seq.shape}\\n\")\n",
    "print(f\"Padded validation sequences have shape: {val_padded_seq.shape}\")"
   ]
  },
  {
   "cell_type": "code",
   "execution_count": 13,
   "id": "6a421f2b",
   "metadata": {
    "execution": {
     "iopub.execute_input": "2024-01-31T19:26:45.902978Z",
     "iopub.status.busy": "2024-01-31T19:26:45.902567Z",
     "iopub.status.idle": "2024-01-31T19:26:45.909026Z",
     "shell.execute_reply": "2024-01-31T19:26:45.907813Z"
    },
    "id": "XkWiQ_FKZNp2",
    "lines_to_next_cell": 2,
    "papermill": {
     "duration": 0.021153,
     "end_time": "2024-01-31T19:26:45.911382",
     "exception": false,
     "start_time": "2024-01-31T19:26:45.890229",
     "status": "completed"
    },
    "tags": [
     "graded"
    ]
   },
   "outputs": [],
   "source": [
    "\n",
    "def tokenize_labels(all_labels, split_labels):\n",
    "\n",
    "    # Instantiate the Tokenizer \n",
    "    label_tokenizer = Tokenizer()\n",
    "    \n",
    "    # Fit the tokenizer on all the labels\n",
    "    label_tokenizer.fit_on_texts(all_labels)\n",
    "   \n",
    "    # Convert labels to sequences\n",
    "    label_seq = label_tokenizer.texts_to_sequences(split_labels)\n",
    "    \n",
    "    # Convert sequences to a numpy array\n",
    "    label_seq_np = np.array(label_seq) - 1\n",
    "    \n",
    "  \n",
    "    \n",
    "    return label_seq_np"
   ]
  },
  {
   "cell_type": "code",
   "execution_count": 14,
   "id": "7d134383",
   "metadata": {
    "execution": {
     "iopub.execute_input": "2024-01-31T19:26:45.933027Z",
     "iopub.status.busy": "2024-01-31T19:26:45.932646Z",
     "iopub.status.idle": "2024-01-31T19:26:46.012889Z",
     "shell.execute_reply": "2024-01-31T19:26:46.011730Z"
    },
    "papermill": {
     "duration": 0.094515,
     "end_time": "2024-01-31T19:26:46.015725",
     "exception": false,
     "start_time": "2024-01-31T19:26:45.921210",
     "status": "completed"
    },
    "tags": [
     "graded"
    ]
   },
   "outputs": [
    {
     "name": "stdout",
     "output_type": "stream",
     "text": [
      "First 5 labels of the training set should look like this:\n",
      "[[3]\n",
      " [1]\n",
      " [0]\n",
      " [0]\n",
      " [4]]\n",
      "\n",
      "First 5 labels of the validation set should look like this:\n",
      "[[4]\n",
      " [3]\n",
      " [2]\n",
      " [0]\n",
      " [0]]\n",
      "\n",
      "Tokenized labels of the training set have shape: (1780, 1)\n",
      "\n",
      "Tokenized labels of the validation set have shape: (445, 1)\n",
      "\n"
     ]
    }
   ],
   "source": [
    "train_label_seq = tokenize_labels(labels, train_labels)\n",
    "val_label_seq = tokenize_labels(labels, val_labels)\n",
    "\n",
    "print(f\"First 5 labels of the training set should look like this:\\n{train_label_seq[:5]}\\n\")\n",
    "print(f\"First 5 labels of the validation set should look like this:\\n{val_label_seq[:5]}\\n\")\n",
    "print(f\"Tokenized labels of the training set have shape: {train_label_seq.shape}\\n\")\n",
    "print(f\"Tokenized labels of the validation set have shape: {val_label_seq.shape}\\n\")"
   ]
  },
  {
   "cell_type": "markdown",
   "id": "f25fa660",
   "metadata": {
    "papermill": {
     "duration": 0.010165,
     "end_time": "2024-01-31T19:26:46.035934",
     "exception": false,
     "start_time": "2024-01-31T19:26:46.025769",
     "status": "completed"
    },
    "tags": []
   },
   "source": [
    "# the model\n",
    "oh here we are let's create our model to fit the data"
   ]
  },
  {
   "cell_type": "markdown",
   "id": "d8615a92",
   "metadata": {
    "papermill": {
     "duration": 0.010056,
     "end_time": "2024-01-31T19:26:46.056769",
     "exception": false,
     "start_time": "2024-01-31T19:26:46.046713",
     "status": "completed"
    },
    "tags": []
   },
   "source": [
    "the model involve Embedding as first layer\n",
    "\n",
    "\n",
    "***GlobalAveragePooling1D as second layer which you can find the describtion of how it work down****\n",
    "     \n",
    " ***as output layer Dense with 5 neurons cuz we have 5 labels with softmax as activation***"
   ]
  },
  {
   "cell_type": "code",
   "execution_count": 15,
   "id": "45e443e4",
   "metadata": {
    "execution": {
     "iopub.execute_input": "2024-01-31T19:26:46.078896Z",
     "iopub.status.busy": "2024-01-31T19:26:46.078479Z",
     "iopub.status.idle": "2024-01-31T19:26:46.086277Z",
     "shell.execute_reply": "2024-01-31T19:26:46.084853Z"
    },
    "id": "HZ5um4MWZP-W",
    "papermill": {
     "duration": 0.022101,
     "end_time": "2024-01-31T19:26:46.088860",
     "exception": false,
     "start_time": "2024-01-31T19:26:46.066759",
     "status": "completed"
    },
    "tags": [
     "graded"
    ]
   },
   "outputs": [],
   "source": [
    "def create_model(num_words, embedding_dim, maxlen):\n",
    " \n",
    "    tf.random.set_seed(123)\n",
    "\n",
    "    model = tf.keras.Sequential([ \n",
    "        tf.keras.layers.Embedding(input_dim=num_words, output_dim=embedding_dim, input_length=maxlen),\n",
    "        tf.keras.layers.GlobalAveragePooling1D(),\n",
    "        tf.keras.layers.Dense(units=5, activation='softmax') \n",
    "    ])\n",
    "    \n",
    "    model.compile(loss= 'sparse_categorical_crossentropy',\n",
    "                  optimizer='adam',\n",
    "                  metrics=['accuracy']) \n",
    "\n",
    "    return model"
   ]
  },
  {
   "cell_type": "code",
   "execution_count": 16,
   "id": "ca999794",
   "metadata": {
    "execution": {
     "iopub.execute_input": "2024-01-31T19:26:46.112355Z",
     "iopub.status.busy": "2024-01-31T19:26:46.111200Z",
     "iopub.status.idle": "2024-01-31T19:26:53.998719Z",
     "shell.execute_reply": "2024-01-31T19:26:53.997630Z"
    },
    "papermill": {
     "duration": 7.9019,
     "end_time": "2024-01-31T19:26:54.001495",
     "exception": false,
     "start_time": "2024-01-31T19:26:46.099595",
     "status": "completed"
    },
    "tags": []
   },
   "outputs": [
    {
     "name": "stdout",
     "output_type": "stream",
     "text": [
      "Epoch 1/30\n",
      "56/56 [==============================] - 1s 8ms/step - loss: 1.5995 - accuracy: 0.2596 - val_loss: 1.5866 - val_accuracy: 0.4135\n",
      "Epoch 2/30\n",
      "56/56 [==============================] - 0s 4ms/step - loss: 1.5719 - accuracy: 0.4534 - val_loss: 1.5570 - val_accuracy: 0.4607\n",
      "Epoch 3/30\n",
      "56/56 [==============================] - 0s 4ms/step - loss: 1.5338 - accuracy: 0.4691 - val_loss: 1.5161 - val_accuracy: 0.4854\n",
      "Epoch 4/30\n",
      "56/56 [==============================] - 0s 4ms/step - loss: 1.4821 - accuracy: 0.5051 - val_loss: 1.4625 - val_accuracy: 0.5281\n",
      "Epoch 5/30\n",
      "56/56 [==============================] - 0s 4ms/step - loss: 1.4169 - accuracy: 0.5848 - val_loss: 1.3982 - val_accuracy: 0.5865\n",
      "Epoch 6/30\n",
      "56/56 [==============================] - 0s 4ms/step - loss: 1.3403 - accuracy: 0.6539 - val_loss: 1.3231 - val_accuracy: 0.6652\n",
      "Epoch 7/30\n",
      "56/56 [==============================] - 0s 4ms/step - loss: 1.2549 - accuracy: 0.7618 - val_loss: 1.2419 - val_accuracy: 0.7596\n",
      "Epoch 8/30\n",
      "56/56 [==============================] - 0s 3ms/step - loss: 1.1646 - accuracy: 0.8180 - val_loss: 1.1585 - val_accuracy: 0.8157\n",
      "Epoch 9/30\n",
      "56/56 [==============================] - 0s 3ms/step - loss: 1.0727 - accuracy: 0.8657 - val_loss: 1.0746 - val_accuracy: 0.8404\n",
      "Epoch 10/30\n",
      "56/56 [==============================] - 0s 4ms/step - loss: 0.9825 - accuracy: 0.8978 - val_loss: 0.9931 - val_accuracy: 0.8652\n",
      "Epoch 11/30\n",
      "56/56 [==============================] - 0s 5ms/step - loss: 0.8964 - accuracy: 0.9135 - val_loss: 0.9152 - val_accuracy: 0.8809\n",
      "Epoch 12/30\n",
      "56/56 [==============================] - 0s 5ms/step - loss: 0.8164 - accuracy: 0.9236 - val_loss: 0.8443 - val_accuracy: 0.8966\n",
      "Epoch 13/30\n",
      "56/56 [==============================] - 0s 5ms/step - loss: 0.7431 - accuracy: 0.9348 - val_loss: 0.7793 - val_accuracy: 0.9079\n",
      "Epoch 14/30\n",
      "56/56 [==============================] - 0s 4ms/step - loss: 0.6770 - accuracy: 0.9421 - val_loss: 0.7210 - val_accuracy: 0.9124\n",
      "Epoch 15/30\n",
      "56/56 [==============================] - 0s 4ms/step - loss: 0.6184 - accuracy: 0.9427 - val_loss: 0.6682 - val_accuracy: 0.9146\n",
      "Epoch 16/30\n",
      "56/56 [==============================] - 0s 4ms/step - loss: 0.5658 - accuracy: 0.9489 - val_loss: 0.6222 - val_accuracy: 0.9124\n",
      "Epoch 17/30\n",
      "56/56 [==============================] - 0s 4ms/step - loss: 0.5192 - accuracy: 0.9539 - val_loss: 0.5817 - val_accuracy: 0.9191\n",
      "Epoch 18/30\n",
      "56/56 [==============================] - 0s 3ms/step - loss: 0.4783 - accuracy: 0.9556 - val_loss: 0.5455 - val_accuracy: 0.9191\n",
      "Epoch 19/30\n",
      "56/56 [==============================] - 0s 4ms/step - loss: 0.4418 - accuracy: 0.9596 - val_loss: 0.5134 - val_accuracy: 0.9236\n",
      "Epoch 20/30\n",
      "56/56 [==============================] - 0s 4ms/step - loss: 0.4098 - accuracy: 0.9590 - val_loss: 0.4845 - val_accuracy: 0.9236\n",
      "Epoch 21/30\n",
      "56/56 [==============================] - 0s 4ms/step - loss: 0.3813 - accuracy: 0.9618 - val_loss: 0.4603 - val_accuracy: 0.9236\n",
      "Epoch 22/30\n",
      "56/56 [==============================] - 0s 4ms/step - loss: 0.3557 - accuracy: 0.9635 - val_loss: 0.4369 - val_accuracy: 0.9236\n",
      "Epoch 23/30\n",
      "56/56 [==============================] - 0s 4ms/step - loss: 0.3329 - accuracy: 0.9652 - val_loss: 0.4169 - val_accuracy: 0.9258\n",
      "Epoch 24/30\n",
      "56/56 [==============================] - 0s 4ms/step - loss: 0.3125 - accuracy: 0.9669 - val_loss: 0.3985 - val_accuracy: 0.9281\n",
      "Epoch 25/30\n",
      "56/56 [==============================] - 0s 4ms/step - loss: 0.2938 - accuracy: 0.9680 - val_loss: 0.3820 - val_accuracy: 0.9258\n",
      "Epoch 26/30\n",
      "56/56 [==============================] - 0s 4ms/step - loss: 0.2769 - accuracy: 0.9680 - val_loss: 0.3677 - val_accuracy: 0.9281\n",
      "Epoch 27/30\n",
      "56/56 [==============================] - 0s 4ms/step - loss: 0.2617 - accuracy: 0.9685 - val_loss: 0.3547 - val_accuracy: 0.9281\n",
      "Epoch 28/30\n",
      "56/56 [==============================] - 0s 4ms/step - loss: 0.2477 - accuracy: 0.9708 - val_loss: 0.3422 - val_accuracy: 0.9281\n",
      "Epoch 29/30\n",
      "56/56 [==============================] - 0s 4ms/step - loss: 0.2349 - accuracy: 0.9697 - val_loss: 0.3313 - val_accuracy: 0.9258\n",
      "Epoch 30/30\n",
      "56/56 [==============================] - 0s 4ms/step - loss: 0.2230 - accuracy: 0.9713 - val_loss: 0.3212 - val_accuracy: 0.9281\n"
     ]
    }
   ],
   "source": [
    "model = create_model(NUM_WORDS, EMBEDDING_DIM, MAXLEN)\n",
    "\n",
    "history = model.fit(train_padded_seq, train_label_seq, epochs=30, validation_data=(val_padded_seq, val_label_seq))"
   ]
  },
  {
   "cell_type": "code",
   "execution_count": 17,
   "id": "6c099a95",
   "metadata": {
    "execution": {
     "iopub.execute_input": "2024-01-31T19:26:54.055887Z",
     "iopub.status.busy": "2024-01-31T19:26:54.055455Z",
     "iopub.status.idle": "2024-01-31T19:26:54.063116Z",
     "shell.execute_reply": "2024-01-31T19:26:54.061857Z"
    },
    "papermill": {
     "duration": 0.038146,
     "end_time": "2024-01-31T19:26:54.065830",
     "exception": false,
     "start_time": "2024-01-31T19:26:54.027684",
     "status": "completed"
    },
    "tags": []
   },
   "outputs": [],
   "source": [
    "\n",
    "def predict_sport_class(sentence, tokenizer, padding, max_len):\n",
    "    # Convert the sentence to a padded sequence\n",
    "    sentence_seq = seq_and_pad([sentence], tokenizer, padding, max_len)\n",
    "    \n",
    "    # Make a prediction\n",
    "    prediction = model.predict(sentence_seq)\n",
    "    \n",
    "    # Get the predicted label\n",
    "    predicted_label = np.argmax(prediction)\n",
    "    \n",
    "    # Mapping the label value back to the original label\n",
    "    label_mapping = {0: \"sport\", 1: \"business\", 2: \"politics\", 3: \"tech\", 4: \"entertainment\"}\n",
    "    \n",
    "    # Get the predicted class label\n",
    "    predicted_class = label_mapping[predicted_label]\n",
    "    \n",
    "    return predicted_class"
   ]
  },
  {
   "cell_type": "markdown",
   "id": "344e3959",
   "metadata": {
    "papermill": {
     "duration": 0.024655,
     "end_time": "2024-01-31T19:26:54.115529",
     "exception": false,
     "start_time": "2024-01-31T19:26:54.090874",
     "status": "completed"
    },
    "tags": []
   },
   "source": [
    "# predict\n",
    "\n",
    "***so let's test our model and see how it's work ,\n",
    "you can edit the article and input a new one to see which class belong to***"
   ]
  },
  {
   "cell_type": "code",
   "execution_count": 18,
   "id": "12552db5",
   "metadata": {
    "execution": {
     "iopub.execute_input": "2024-01-31T19:26:54.167714Z",
     "iopub.status.busy": "2024-01-31T19:26:54.167281Z",
     "iopub.status.idle": "2024-01-31T19:26:54.326742Z",
     "shell.execute_reply": "2024-01-31T19:26:54.325559Z"
    },
    "papermill": {
     "duration": 0.188687,
     "end_time": "2024-01-31T19:26:54.329262",
     "exception": false,
     "start_time": "2024-01-31T19:26:54.140575",
     "status": "completed"
    },
    "tags": []
   },
   "outputs": [
    {
     "name": "stdout",
     "output_type": "stream",
     "text": [
      "1/1 [==============================] - 0s 94ms/step\n",
      "The predicted class is: sport\n"
     ]
    }
   ],
   "source": [
    "\n",
    "new_article = \"It was a very, very tough match,” Sinner said in his on-court interview. “I started off really well. He missed for two sets, I felt like he was not feeling that great on court, so I just tried to keep pushing.”You have to go all the way back to his fourth-round defeat against Chung Hyeon in 2018 for the previous time that Djokovic lost in Melbourne – 33 matches ago.‘Nole’ later gave a very frank assessment of his performance against Sinner, which was also his first semifinal defeat at the Australian Open.“He outplayed me completely today,” Djokovic told reporters. “Look, I was, in a way, shocked with my level, in a bad way. There was not much I was doing right in the first two sets.\"\n",
    "\n",
    "predicted_class = predict_sport_class(new_article, tokenizer, PADDING, MAXLEN)\n",
    "\n",
    "print(\"The predicted class is:\", predicted_class)\n"
   ]
  },
  {
   "cell_type": "markdown",
   "id": "cda95751",
   "metadata": {
    "papermill": {
     "duration": 0.024905,
     "end_time": "2024-01-31T19:26:54.379544",
     "exception": false,
     "start_time": "2024-01-31T19:26:54.354639",
     "status": "completed"
    },
    "tags": []
   },
   "source": [
    "***let's see how our model work as plot***"
   ]
  },
  {
   "cell_type": "code",
   "execution_count": 19,
   "id": "3085fae1",
   "metadata": {
    "execution": {
     "iopub.execute_input": "2024-01-31T19:26:54.433067Z",
     "iopub.status.busy": "2024-01-31T19:26:54.432423Z",
     "iopub.status.idle": "2024-01-31T19:26:55.184842Z",
     "shell.execute_reply": "2024-01-31T19:26:55.183544Z"
    },
    "papermill": {
     "duration": 0.782285,
     "end_time": "2024-01-31T19:26:55.188001",
     "exception": false,
     "start_time": "2024-01-31T19:26:54.405716",
     "status": "completed"
    },
    "tags": []
   },
   "outputs": [
    {
     "data": {
      "image/png": "[encoded data removed]",
      "text/plain": [
       "<Figure size 640x480 with 1 Axes>"
      ]
     },
     "metadata": {},
     "output_type": "display_data"
    },
    {
     "data": {
      "image/png": "[encoded data removed]",
      "text/plain": [
       "<Figure size 640x480 with 1 Axes>"
      ]
     },
     "metadata": {},
     "output_type": "display_data"
    }
   ],
   "source": [
    "def plot_graphs(history, metric):\n",
    "    plt.plot(history.history[metric])\n",
    "    plt.plot(history.history[f'val_{metric}'])\n",
    "    plt.xlabel(\"Epochs\")\n",
    "    plt.ylabel(metric)\n",
    "    plt.legend([metric, f'val_{metric}'])\n",
    "    plt.show()\n",
    "    \n",
    "plot_graphs(history, \"accuracy\")\n",
    "plot_graphs(history, \"loss\")"
   ]
  },
  {
   "cell_type": "markdown",
   "id": "4540b852",
   "metadata": {
    "papermill": {
     "duration": 0.026681,
     "end_time": "2024-01-31T19:26:55.241048",
     "exception": false,
     "start_time": "2024-01-31T19:26:55.214367",
     "status": "completed"
    },
    "tags": []
   },
   "source": [
    "# thanks..i hope you liked"
   ]
  },
  {
   "cell_type": "code",
   "execution_count": null,
   "id": "fb01223b",
   "metadata": {
    "papermill": {
     "duration": 0.026636,
     "end_time": "2024-01-31T19:26:55.294700",
     "exception": false,
     "start_time": "2024-01-31T19:26:55.268064",
     "status": "completed"
    },
    "tags": []
   },
   "outputs": [],
   "source": []
  }
 ],
 "metadata": {
  "dlai_version": "1.2.0",
  "kaggle": {
   "accelerator": "none",
   "dataSources": [
    {
     "datasetId": 4382784,
     "sourceId": 7523974,
     "sourceType": "datasetVersion"
    }
   ],
   "dockerImageVersionId": 30646,
   "isGpuEnabled": false,
   "isInternetEnabled": true,
   "language": "python",
   "sourceType": "notebook"
  },
  "kernelspec": {
   "display_name": "Python 3",
   "language": "python",
   "name": "python3"
  },
  "language_info": {
   "codemirror_mode": {
    "name": "ipython",
    "version": 3
   },
   "file_extension": ".py",
   "mimetype": "text/x-python",
   "name": "python",
   "nbconvert_exporter": "python",
   "pygments_lexer": "ipython3",
   "version": "3.10.13"
  },
  "papermill": {
   "default_parameters": {},
   "duration": 35.779277,
   "end_time": "2024-01-31T19:26:56.947801",
   "environment_variables": {},
   "exception": null,
   "input_path": "__notebook__.ipynb",
   "output_path": "__notebook__.ipynb",
   "parameters": {},
   "start_time": "2024-01-31T19:26:21.168524",
   "version": "2.5.0"
  }
 },
 "nbformat": 4,
 "nbformat_minor": 5
}
