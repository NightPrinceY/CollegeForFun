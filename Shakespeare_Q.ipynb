{
  "metadata": {
    "accelerator": "GPU",
    "colab": {
      "gpuType": "T4",
      "provenance": [],
      "name": "Shakespeare-Q",
      "include_colab_link": true
    },
    "kernelspec": {
      "name": "python3",
      "display_name": "Python 3",
      "language": "python"
    },
    "language_info": {
      "name": "python",
      "version": "3.10.13",
      "mimetype": "text/x-python",
      "codemirror_mode": {
        "name": "ipython",
        "version": 3
      },
      "pygments_lexer": "ipython3",
      "nbconvert_exporter": "python",
      "file_extension": ".py"
    },
    "kaggle": {
      "accelerator": "nvidiaTeslaT4",
      "dataSources": [
        {
          "sourceId": 7612931,
          "sourceType": "datasetVersion",
          "datasetId": 4433247
        }
      ],
      "dockerImageVersionId": 30648,
      "isInternetEnabled": true,
      "language": "python",
      "sourceType": "notebook",
      "isGpuEnabled": true
    }
  },
  "nbformat_minor": 5,
  "nbformat": 4,
  "cells": [
    {
      "cell_type": "markdown",
      "metadata": {
        "id": "view-in-github",
        "colab_type": "text"
      },
      "source": [
        "<a href=\"https://colab.research.google.com/github/NightPrinceY/CollegeForFun/blob/main/Shakespeare_Q.ipynb\" target=\"_parent\"><img src=\"https://colab.research.google.com/assets/colab-badge.svg\" alt=\"Open In Colab\"/></a>"
      ]
    },
    {
      "source": [
        "\n",
        "# IMPORTANT: RUN THIS CELL IN ORDER TO IMPORT YOUR KAGGLE DATA SOURCES\n",
        "# TO THE CORRECT LOCATION (/kaggle/input) IN YOUR NOTEBOOK,\n",
        "# THEN FEEL FREE TO DELETE THIS CELL.\n",
        "# NOTE: THIS NOTEBOOK ENVIRONMENT DIFFERS FROM KAGGLE'S PYTHON\n",
        "# ENVIRONMENT SO THERE MAY BE MISSING LIBRARIES USED BY YOUR\n",
        "# NOTEBOOK.\n",
        "\n",
        "import os\n",
        "import sys\n",
        "from tempfile import NamedTemporaryFile\n",
        "from urllib.request import urlopen\n",
        "from urllib.parse import unquote, urlparse\n",
        "from urllib.error import HTTPError\n",
        "from zipfile import ZipFile\n",
        "import tarfile\n",
        "import shutil\n",
        "\n",
        "CHUNK_SIZE = 40960\n",
        "DATA_SOURCE_MAPPING = 'shakespeare:https%3A%2F%2Fstorage.googleapis.com%2Fkaggle-data-sets%2F4433247%2F7612931%2Fbundle%2Farchive.zip%3FX-Goog-Algorithm%3DGOOG4-RSA-SHA256%26X-Goog-Credential%3Dgcp-kaggle-com%2540kaggle-161607.iam.gserviceaccount.com%252F20240212%252Fauto%252Fstorage%252Fgoog4_request%26X-Goog-Date%3D20240212T170058Z%26X-Goog-Expires%3D259200%26X-Goog-SignedHeaders%3Dhost%26X-Goog-Signature%3D74172a125330c9493d93fe2353d693d1fc9fe7d590090acfc53f324cd18f938e0542fee741498ee2f39274b9bac7695e552a1751c5b3630bb7b7cbc13f3972a62f5132b610c648481ea074e9206001d55ba33bb3ba9661770ecd53899450145231074cebe4477f63be03b6c795450bfcb96a97a48bb659bb89f3297127f0d9e895c03968a89560db0db976668e7e8cb3383b3162f0323907d0ce4ea3de159b498c7ecca1b93d8f60276639f565b6986d948441e00370f964fa9cd858ce4260f0a83ee45e9e12adc84e534058be0747412b282fc94ae4274e56849e67bdccf315af1935ef73c735ecb3996f1af07a35316366d0a6e649f08fc54833628ca76873'\n",
        "\n",
        "KAGGLE_INPUT_PATH='/kaggle/input'\n",
        "KAGGLE_WORKING_PATH='/kaggle/working'\n",
        "KAGGLE_SYMLINK='kaggle'\n",
        "\n",
        "!umount /kaggle/input/ 2> /dev/null\n",
        "shutil.rmtree('/kaggle/input', ignore_errors=True)\n",
        "os.makedirs(KAGGLE_INPUT_PATH, 0o777, exist_ok=True)\n",
        "os.makedirs(KAGGLE_WORKING_PATH, 0o777, exist_ok=True)\n",
        "\n",
        "try:\n",
        "  os.symlink(KAGGLE_INPUT_PATH, os.path.join(\"..\", 'input'), target_is_directory=True)\n",
        "except FileExistsError:\n",
        "  pass\n",
        "try:\n",
        "  os.symlink(KAGGLE_WORKING_PATH, os.path.join(\"..\", 'working'), target_is_directory=True)\n",
        "except FileExistsError:\n",
        "  pass\n",
        "\n",
        "for data_source_mapping in DATA_SOURCE_MAPPING.split(','):\n",
        "    directory, download_url_encoded = data_source_mapping.split(':')\n",
        "    download_url = unquote(download_url_encoded)\n",
        "    filename = urlparse(download_url).path\n",
        "    destination_path = os.path.join(KAGGLE_INPUT_PATH, directory)\n",
        "    try:\n",
        "        with urlopen(download_url) as fileres, NamedTemporaryFile() as tfile:\n",
        "            total_length = fileres.headers['content-length']\n",
        "            print(f'Downloading {directory}, {total_length} bytes compressed')\n",
        "            dl = 0\n",
        "            data = fileres.read(CHUNK_SIZE)\n",
        "            while len(data) > 0:\n",
        "                dl += len(data)\n",
        "                tfile.write(data)\n",
        "                done = int(50 * dl / int(total_length))\n",
        "                sys.stdout.write(f\"\\r[{'=' * done}{' ' * (50-done)}] {dl} bytes downloaded\")\n",
        "                sys.stdout.flush()\n",
        "                data = fileres.read(CHUNK_SIZE)\n",
        "            if filename.endswith('.zip'):\n",
        "              with ZipFile(tfile) as zfile:\n",
        "                zfile.extractall(destination_path)\n",
        "            else:\n",
        "              with tarfile.open(tfile.name) as tarfile:\n",
        "                tarfile.extractall(destination_path)\n",
        "            print(f'\\nDownloaded and uncompressed: {directory}')\n",
        "    except HTTPError as e:\n",
        "        print(f'Failed to load (likely expired) {download_url} to path {destination_path}')\n",
        "        continue\n",
        "    except OSError as e:\n",
        "        print(f'Failed to load {download_url} to path {destination_path}')\n",
        "        continue\n",
        "\n",
        "print('Data source import complete.')\n"
      ],
      "metadata": {
        "id": "lQmBl96DQ9_8",
        "outputId": "91769b49-1143-46f2-c3f1-84f9c9b10a19",
        "colab": {
          "base_uri": "https://localhost:8080/"
        }
      },
      "cell_type": "code",
      "outputs": [
        {
          "output_type": "stream",
          "name": "stdout",
          "text": [
            "Downloading shakespeare, 442517 bytes compressed\n",
            "[==================================================] 442517 bytes downloaded\n",
            "Downloaded and uncompressed: shakespeare\n",
            "Data source import complete.\n"
          ]
        }
      ],
      "execution_count": 1,
      "id": "lQmBl96DQ9_8"
    },
    {
      "cell_type": "markdown",
      "source": [
        "# Welocome - Shakespear quotes  \n",
        "***this project it's was assignment for tensor-flow-s i hope you enjoy***"
      ],
      "metadata": {
        "id": "zgoygZSyQ-AB"
      },
      "id": "zgoygZSyQ-AB"
    },
    {
      "cell_type": "markdown",
      "source": [
        "***it said thas if love lit you love shakespear...so let's go***"
      ],
      "metadata": {
        "id": "ezU5qDHOQ-AD"
      },
      "id": "ezU5qDHOQ-AD"
    },
    {
      "cell_type": "markdown",
      "source": [
        "pic shakespear\n",
        "![Screenshot%202024-02-12%20183935.png](attachment:Screenshot%202024-02-12%20183935.png)"
      ],
      "metadata": {
        "id": "82BlM81DQ-AE"
      },
      "id": "82BlM81DQ-AE"
    },
    {
      "cell_type": "code",
      "source": [
        "#import library\n",
        "import numpy as np\n",
        "import matplotlib.pyplot as plt  #to show and present everthing on loss, accuracy\n",
        "from tensorflow.keras.models import Sequential #our model it's sequnces\n",
        "from tensorflow.keras.utils import to_categorical  #for one_hot_encode multi labels\n",
        "from tensorflow.keras.preprocessing.text import Tokenizer\n",
        "from tensorflow.keras.preprocessing.sequence import pad_sequences\n",
        "from tensorflow.keras.layers import Embedding, LSTM, Dense, Bidirectional  #this only layers i'm gonna use in this project\n"
      ],
      "metadata": {
        "id": "911f77f3",
        "execution": {
          "iopub.status.busy": "2024-02-12T16:51:30.941655Z",
          "iopub.execute_input": "2024-02-12T16:51:30.94193Z",
          "iopub.status.idle": "2024-02-12T16:51:45.308642Z",
          "shell.execute_reply.started": "2024-02-12T16:51:30.941905Z",
          "shell.execute_reply": "2024-02-12T16:51:45.307737Z"
        },
        "trusted": true,
        "outputId": "efc49689-5b23-4328-f3de-778728ebdb01"
      },
      "execution_count": null,
      "outputs": [
        {
          "name": "stderr",
          "text": "2024-02-12 16:51:33.051044: E external/local_xla/xla/stream_executor/cuda/cuda_dnn.cc:9261] Unable to register cuDNN factory: Attempting to register factory for plugin cuDNN when one has already been registered\n2024-02-12 16:51:33.051139: E external/local_xla/xla/stream_executor/cuda/cuda_fft.cc:607] Unable to register cuFFT factory: Attempting to register factory for plugin cuFFT when one has already been registered\n2024-02-12 16:51:33.225815: E external/local_xla/xla/stream_executor/cuda/cuda_blas.cc:1515] Unable to register cuBLAS factory: Attempting to register factory for plugin cuBLAS when one has already been registered\n",
          "output_type": "stream"
        }
      ],
      "id": "911f77f3"
    },
    {
      "cell_type": "code",
      "source": [
        "source_file = '/kaggle/input/shakespeare'   #shakespeare-text"
      ],
      "metadata": {
        "id": "04d3d65d",
        "execution": {
          "iopub.status.busy": "2024-02-12T16:51:45.310111Z",
          "iopub.execute_input": "2024-02-12T16:51:45.310674Z",
          "iopub.status.idle": "2024-02-12T16:51:45.315683Z",
          "shell.execute_reply.started": "2024-02-12T16:51:45.310648Z",
          "shell.execute_reply": "2024-02-12T16:51:45.313868Z"
        },
        "trusted": true
      },
      "execution_count": null,
      "outputs": [],
      "id": "04d3d65d"
    },
    {
      "cell_type": "code",
      "source": [
        "#read text-file\n",
        "with open('/kaggle/input/shakespeare/shakespeare.txt' , 'r') as f:\n",
        "    data = f.read()\n",
        "\n",
        "  #preprocessing (to lower case , split into corpus)\n",
        "corpus = data.lower().split(\"\\n\")\n",
        "\n",
        "  #too big data so we just split 10000 lines\n",
        "corpus = corpus[:10000]\n",
        "\n",
        "print(f\"There are {len(corpus)} lines of shakespeare\\n\")\n",
        "print(f\"The first 5 lines look like this:\\n\")\n",
        "for i in range(2):\n",
        "  print(corpus[i])"
      ],
      "metadata": {
        "colab": {
          "base_uri": "https://localhost:8080/"
        },
        "id": "aaf761b9",
        "outputId": "0b9f9d0d-89bd-4ba7-e66b-60e1693ee9e9",
        "execution": {
          "iopub.status.busy": "2024-02-12T16:51:45.317255Z",
          "iopub.execute_input": "2024-02-12T16:51:45.31761Z",
          "iopub.status.idle": "2024-02-12T16:51:45.372892Z",
          "shell.execute_reply.started": "2024-02-12T16:51:45.317579Z",
          "shell.execute_reply": "2024-02-12T16:51:45.371921Z"
        },
        "trusted": true
      },
      "execution_count": null,
      "outputs": [
        {
          "name": "stdout",
          "text": "There are 10000 lines of shakespeare\n\nThe first 5 lines look like this:\n\nfirst citizen:\nbefore we proceed any further, hear me speak.\n",
          "output_type": "stream"
        }
      ],
      "id": "aaf761b9"
    },
    {
      "cell_type": "code",
      "source": [
        "#another example of the corpus[]\n",
        "print(f\"The 88th  line look like this:\\n{corpus[88]}\\n\")"
      ],
      "metadata": {
        "colab": {
          "base_uri": "https://localhost:8080/"
        },
        "id": "c3cd9205",
        "outputId": "c4edfd16-944d-45b9-bb41-5314e8b9f56b",
        "execution": {
          "iopub.status.busy": "2024-02-12T16:51:45.374707Z",
          "iopub.execute_input": "2024-02-12T16:51:45.374986Z",
          "iopub.status.idle": "2024-02-12T16:51:45.379296Z",
          "shell.execute_reply.started": "2024-02-12T16:51:45.374962Z",
          "shell.execute_reply": "2024-02-12T16:51:45.378377Z"
        },
        "trusted": true
      },
      "execution_count": null,
      "outputs": [
        {
          "name": "stdout",
          "text": "The 88th  line look like this:\nwith bats and clubs? the matter? speak, i pray you.\n\n",
          "output_type": "stream"
        }
      ],
      "id": "c3cd9205"
    },
    {
      "cell_type": "code",
      "source": [
        "#built a tokenizer\n",
        "tokenizer = Tokenizer()\n",
        "\n",
        "   #fit token on the corpus\n",
        "tokenizer.fit_on_texts(corpus)\n",
        "\n",
        "  #get the total_words in vocab\n",
        "total_words = len(tokenizer.word_index) +1   #+1 for 'unknown' = 'OOV'\n",
        "print(f\"the total words in vocab  : {total_words}\")"
      ],
      "metadata": {
        "colab": {
          "base_uri": "https://localhost:8080/"
        },
        "id": "be96ab9c",
        "outputId": "5c0f6f7f-d4e0-42a7-d3b7-33027e34bd15",
        "execution": {
          "iopub.status.busy": "2024-02-12T16:51:45.380421Z",
          "iopub.execute_input": "2024-02-12T16:51:45.380722Z",
          "iopub.status.idle": "2024-02-12T16:51:45.520271Z",
          "shell.execute_reply.started": "2024-02-12T16:51:45.380698Z",
          "shell.execute_reply": "2024-02-12T16:51:45.51945Z"
        },
        "trusted": true
      },
      "execution_count": null,
      "outputs": [
        {
          "name": "stdout",
          "text": "the total words in vocab  : 5725\n",
          "output_type": "stream"
        }
      ],
      "id": "be96ab9c"
    },
    {
      "cell_type": "markdown",
      "source": [
        "***ok here we are let's create a sequence for token_lines***\n",
        "for each line we'll make n-gram sequence for undersand what i mean:\n",
        "ex = [1,2,3,4,5,6]\n",
        "\n",
        "n_grams_ex =[\n",
        "             [1,2]\n",
        "\n",
        "             [1,2,3]\n",
        "             \n",
        "             [1,2,3,4]\n",
        "             \n",
        "             [1,2,3,4,5]\n",
        "             \n",
        "             [1,2,3,4,5,6] ]\n",
        "             \n",
        "this called n-gram              "
      ],
      "metadata": {
        "id": "qpVnCTwrQ-AH"
      },
      "id": "qpVnCTwrQ-AH"
    },
    {
      "cell_type": "code",
      "source": [
        "#a list to save the sequences\n",
        "input_sequences = []\n",
        "\n",
        "#forloop on all the lines in corpus\n",
        "for line in corpus :\n",
        "\n",
        "    #for each line convert to sequence\n",
        "    token_list = tokenizer.texts_to_sequences([line])[0]\n",
        "\n",
        "    #forloop on each line to creat n-gram (each line)..look above to understand\n",
        "    for i in range(1,len(token_list)):\n",
        "\n",
        "        n_gram_seqs = token_list[: i+1]\n",
        "        #adding the sequence to the list\n",
        "        input_sequences.append(n_gram_seqs)\n"
      ],
      "metadata": {
        "id": "5892d8df",
        "execution": {
          "iopub.status.busy": "2024-02-12T16:51:45.521245Z",
          "iopub.execute_input": "2024-02-12T16:51:45.521595Z",
          "iopub.status.idle": "2024-02-12T16:51:45.845124Z",
          "shell.execute_reply.started": "2024-02-12T16:51:45.521564Z",
          "shell.execute_reply": "2024-02-12T16:51:45.844381Z"
        },
        "trusted": true
      },
      "execution_count": null,
      "outputs": [],
      "id": "5892d8df"
    },
    {
      "cell_type": "code",
      "source": [
        "#get the maxlen in the sequences..needed in the next steps\n",
        "max_len_seq = max([len(x) for x in input_sequences])\n",
        "print(f\"the max_lenght in sequences : {max_len_seq}\")"
      ],
      "metadata": {
        "colab": {
          "base_uri": "https://localhost:8080/"
        },
        "id": "e570e26e",
        "outputId": "1be27a74-1b5f-48ca-f8b1-b5d9139053b1",
        "execution": {
          "iopub.status.busy": "2024-02-12T16:51:45.846158Z",
          "iopub.execute_input": "2024-02-12T16:51:45.846453Z",
          "iopub.status.idle": "2024-02-12T16:51:45.854887Z",
          "shell.execute_reply.started": "2024-02-12T16:51:45.846407Z",
          "shell.execute_reply": "2024-02-12T16:51:45.854007Z"
        },
        "trusted": true
      },
      "execution_count": null,
      "outputs": [
        {
          "name": "stdout",
          "text": "the max_lenght in sequences : 13\n",
          "output_type": "stream"
        }
      ],
      "id": "e570e26e"
    },
    {
      "cell_type": "markdown",
      "source": [
        "***next step padding the data for prepare for fit..using pad_sequnece***"
      ],
      "metadata": {
        "id": "kaMZv5PFQ-AI"
      },
      "id": "kaMZv5PFQ-AI"
    },
    {
      "cell_type": "code",
      "source": [
        "padd_seq = pad_sequences(input_sequences , maxlen = max_len_seq, padding = 'pre')"
      ],
      "metadata": {
        "id": "f46e2b24",
        "execution": {
          "iopub.status.busy": "2024-02-12T16:51:45.855925Z",
          "iopub.execute_input": "2024-02-12T16:51:45.856183Z",
          "iopub.status.idle": "2024-02-12T16:51:46.013124Z",
          "shell.execute_reply.started": "2024-02-12T16:51:45.85616Z",
          "shell.execute_reply": "2024-02-12T16:51:46.012464Z"
        },
        "trusted": true
      },
      "execution_count": null,
      "outputs": [],
      "id": "f46e2b24"
    },
    {
      "cell_type": "code",
      "source": [
        "print(f\"an example after paddingd:\\n{padd_seq[7777]}\")"
      ],
      "metadata": {
        "colab": {
          "base_uri": "https://localhost:8080/"
        },
        "id": "e80163c3",
        "outputId": "d6f87e17-ebc2-4887-fac1-d56a37b7a8ed",
        "execution": {
          "iopub.status.busy": "2024-02-12T16:51:46.014178Z",
          "iopub.execute_input": "2024-02-12T16:51:46.014511Z",
          "iopub.status.idle": "2024-02-12T16:51:46.019406Z",
          "shell.execute_reply.started": "2024-02-12T16:51:46.014479Z",
          "shell.execute_reply": "2024-02-12T16:51:46.018491Z"
        },
        "trusted": true
      },
      "execution_count": null,
      "outputs": [
        {
          "name": "stdout",
          "text": "an example after paddingd:\n[   0    0    0    0    0    0    0    0    2   10    1 3319    6]\n",
          "output_type": "stream"
        }
      ],
      "id": "e80163c3"
    },
    {
      "cell_type": "markdown",
      "source": [
        "***next step it's spliting the data for sentences and labels :***\n",
        "\n",
        "  ***ex  = \"when i heard about it i felt like i fly like a bird\"***\n",
        "\n",
        "  ***train = when i heard about it i felt like i fly like a  #as sequnce***\n",
        "\n",
        "  ***label = bird                                            #as one_hot_encode***"
      ],
      "metadata": {
        "id": "VqxmF62qQ-AI"
      },
      "id": "VqxmF62qQ-AI"
    },
    {
      "cell_type": "code",
      "source": [
        "features = padd_seq[: , :-1]  #the entire sequnce except the last elment\n",
        "\n",
        "labels  = to_categorical(padd_seq[: ,-1],num_classes = total_words) #the last elment and encoded using to_categorical()"
      ],
      "metadata": {
        "id": "72b60911",
        "execution": {
          "iopub.status.busy": "2024-02-12T16:51:46.022813Z",
          "iopub.execute_input": "2024-02-12T16:51:46.023459Z",
          "iopub.status.idle": "2024-02-12T16:51:46.122661Z",
          "shell.execute_reply.started": "2024-02-12T16:51:46.023403Z",
          "shell.execute_reply": "2024-02-12T16:51:46.121566Z"
        },
        "trusted": true
      },
      "execution_count": null,
      "outputs": [],
      "id": "72b60911"
    },
    {
      "cell_type": "markdown",
      "source": [
        "***building a model ...***"
      ],
      "metadata": {
        "id": "0CpBdjD8Q-AI"
      },
      "id": "0CpBdjD8Q-AI"
    },
    {
      "cell_type": "code",
      "source": [
        "model = Sequential()\n",
        "\n",
        "model.add(Embedding(total_words, 100, input_length=max_len_seq-1)) #embedding as 1th layer\n",
        "model.add(Bidirectional(LSTM(120)))\n",
        "\n",
        "#softmax as output layer with units = total words generate\n",
        "model.add(Dense(total_words , activation = 'softmax'))\n",
        "\n",
        "\n",
        "    # Compile the model\n",
        "model.compile(loss='categorical_crossentropy',\n",
        "             optimizer='adam',\n",
        "             metrics=['accuracy'])"
      ],
      "metadata": {
        "id": "9bc3875b",
        "execution": {
          "iopub.status.busy": "2024-02-12T16:51:46.124564Z",
          "iopub.execute_input": "2024-02-12T16:51:46.124957Z",
          "iopub.status.idle": "2024-02-12T16:51:48.050221Z",
          "shell.execute_reply.started": "2024-02-12T16:51:46.124922Z",
          "shell.execute_reply": "2024-02-12T16:51:48.049183Z"
        },
        "trusted": true
      },
      "execution_count": null,
      "outputs": [],
      "id": "9bc3875b"
    },
    {
      "cell_type": "code",
      "source": [
        "history = model.fit(features, labels, epochs=50, verbose=1)"
      ],
      "metadata": {
        "colab": {
          "base_uri": "https://localhost:8080/"
        },
        "id": "ac7db964",
        "outputId": "7f6b3da2-2d04-4a01-f70c-22123453b1f2",
        "scrolled": true,
        "execution": {
          "iopub.status.busy": "2024-02-12T16:51:48.051494Z",
          "iopub.execute_input": "2024-02-12T16:51:48.051841Z",
          "iopub.status.idle": "2024-02-12T17:00:01.930319Z",
          "shell.execute_reply.started": "2024-02-12T16:51:48.05181Z",
          "shell.execute_reply": "2024-02-12T17:00:01.92949Z"
        },
        "trusted": true
      },
      "execution_count": null,
      "outputs": [
        {
          "name": "stdout",
          "text": "Epoch 1/50\n",
          "output_type": "stream"
        },
        {
          "name": "stderr",
          "text": "WARNING: All log messages before absl::InitializeLog() is called are written to STDERR\nI0000 00:00:1707756714.134926      98 device_compiler.h:186] Compiled cluster using XLA!  This line is logged at most once for the lifetime of the process.\n",
          "output_type": "stream"
        },
        {
          "name": "stdout",
          "text": "1264/1264 [==============================] - 24s 16ms/step - loss: 6.7993 - accuracy: 0.0403\nEpoch 2/50\n1264/1264 [==============================] - 10s 8ms/step - loss: 6.2336 - accuracy: 0.0609\nEpoch 3/50\n1264/1264 [==============================] - 10s 8ms/step - loss: 5.8331 - accuracy: 0.0871\nEpoch 4/50\n1264/1264 [==============================] - 9s 8ms/step - loss: 5.4894 - accuracy: 0.1045\nEpoch 5/50\n1264/1264 [==============================] - 9s 7ms/step - loss: 5.1500 - accuracy: 0.1152\nEpoch 6/50\n1264/1264 [==============================] - 10s 8ms/step - loss: 4.8025 - accuracy: 0.1318\nEpoch 7/50\n1264/1264 [==============================] - 9s 7ms/step - loss: 4.4534 - accuracy: 0.1567\nEpoch 8/50\n1264/1264 [==============================] - 9s 7ms/step - loss: 4.1105 - accuracy: 0.1934\nEpoch 9/50\n1264/1264 [==============================] - 10s 8ms/step - loss: 3.7827 - accuracy: 0.2360\nEpoch 10/50\n1264/1264 [==============================] - 9s 7ms/step - loss: 3.4799 - accuracy: 0.2841\nEpoch 11/50\n1264/1264 [==============================] - 9s 7ms/step - loss: 3.2081 - accuracy: 0.3286\nEpoch 12/50\n1264/1264 [==============================] - 9s 7ms/step - loss: 2.9596 - accuracy: 0.3730\nEpoch 13/50\n1264/1264 [==============================] - 10s 8ms/step - loss: 2.7333 - accuracy: 0.4155\nEpoch 14/50\n1264/1264 [==============================] - 10s 8ms/step - loss: 2.5339 - accuracy: 0.4535\nEpoch 15/50\n1264/1264 [==============================] - 10s 8ms/step - loss: 2.3457 - accuracy: 0.4928\nEpoch 16/50\n1264/1264 [==============================] - 9s 8ms/step - loss: 2.1770 - accuracy: 0.5272\nEpoch 17/50\n1264/1264 [==============================] - 9s 7ms/step - loss: 2.0251 - accuracy: 0.5597\nEpoch 18/50\n1264/1264 [==============================] - 10s 8ms/step - loss: 1.8854 - accuracy: 0.5890\nEpoch 19/50\n1264/1264 [==============================] - 9s 8ms/step - loss: 1.7592 - accuracy: 0.6171\nEpoch 20/50\n1264/1264 [==============================] - 9s 8ms/step - loss: 1.6473 - accuracy: 0.6420\nEpoch 21/50\n1264/1264 [==============================] - 9s 7ms/step - loss: 1.5439 - accuracy: 0.6628\nEpoch 22/50\n1264/1264 [==============================] - 9s 8ms/step - loss: 1.4487 - accuracy: 0.6856\nEpoch 23/50\n1264/1264 [==============================] - 10s 8ms/step - loss: 1.3710 - accuracy: 0.7010\nEpoch 24/50\n1264/1264 [==============================] - 9s 8ms/step - loss: 1.2919 - accuracy: 0.7194\nEpoch 25/50\n1264/1264 [==============================] - 9s 7ms/step - loss: 1.2266 - accuracy: 0.7309\nEpoch 26/50\n1264/1264 [==============================] - 9s 8ms/step - loss: 1.1685 - accuracy: 0.7438\nEpoch 27/50\n1264/1264 [==============================] - 9s 7ms/step - loss: 1.1131 - accuracy: 0.7544\nEpoch 28/50\n1264/1264 [==============================] - 9s 7ms/step - loss: 1.0668 - accuracy: 0.7643\nEpoch 29/50\n1264/1264 [==============================] - 10s 8ms/step - loss: 1.0284 - accuracy: 0.7712\nEpoch 30/50\n1264/1264 [==============================] - 9s 7ms/step - loss: 0.9950 - accuracy: 0.7791\nEpoch 31/50\n1264/1264 [==============================] - 10s 8ms/step - loss: 0.9645 - accuracy: 0.7828\nEpoch 32/50\n1264/1264 [==============================] - 9s 7ms/step - loss: 0.9332 - accuracy: 0.7901\nEpoch 33/50\n1264/1264 [==============================] - 10s 8ms/step - loss: 0.9133 - accuracy: 0.7935\nEpoch 34/50\n1264/1264 [==============================] - 10s 8ms/step - loss: 0.8898 - accuracy: 0.7966\nEpoch 35/50\n1264/1264 [==============================] - 9s 7ms/step - loss: 0.8734 - accuracy: 0.7992\nEpoch 36/50\n1264/1264 [==============================] - 10s 8ms/step - loss: 0.8579 - accuracy: 0.8008\nEpoch 37/50\n1264/1264 [==============================] - 9s 7ms/step - loss: 0.8440 - accuracy: 0.8030\nEpoch 38/50\n1264/1264 [==============================] - 9s 7ms/step - loss: 0.8318 - accuracy: 0.8046\nEpoch 39/50\n1264/1264 [==============================] - 10s 8ms/step - loss: 0.8154 - accuracy: 0.8073\nEpoch 40/50\n1264/1264 [==============================] - 9s 7ms/step - loss: 0.8114 - accuracy: 0.8073\nEpoch 41/50\n1264/1264 [==============================] - 9s 7ms/step - loss: 0.8030 - accuracy: 0.8080\nEpoch 42/50\n1264/1264 [==============================] - 9s 7ms/step - loss: 0.7924 - accuracy: 0.8087\nEpoch 43/50\n1264/1264 [==============================] - 9s 7ms/step - loss: 0.7869 - accuracy: 0.8094\nEpoch 44/50\n1264/1264 [==============================] - 10s 8ms/step - loss: 0.7804 - accuracy: 0.8094\nEpoch 45/50\n1264/1264 [==============================] - 9s 7ms/step - loss: 0.7764 - accuracy: 0.8104\nEpoch 46/50\n1264/1264 [==============================] - 10s 8ms/step - loss: 0.7685 - accuracy: 0.8108\nEpoch 47/50\n1264/1264 [==============================] - 9s 7ms/step - loss: 0.7652 - accuracy: 0.8126\nEpoch 48/50\n1264/1264 [==============================] - 9s 7ms/step - loss: 0.7627 - accuracy: 0.8105\nEpoch 49/50\n1264/1264 [==============================] - 10s 8ms/step - loss: 0.7571 - accuracy: 0.8114\nEpoch 50/50\n1264/1264 [==============================] - 9s 7ms/step - loss: 0.7516 - accuracy: 0.8125\n",
          "output_type": "stream"
        }
      ],
      "id": "ac7db964"
    },
    {
      "cell_type": "markdown",
      "source": [
        "***let's see how our model works :***"
      ],
      "metadata": {
        "id": "wbMEhzSTQ-AJ"
      },
      "id": "wbMEhzSTQ-AJ"
    },
    {
      "cell_type": "code",
      "source": [
        "# Take a look at the training curves of the emodel\n",
        "\n",
        "acc = history.history['accuracy']\n",
        "loss = history.history['loss']\n",
        "\n",
        "epochs = range(len(acc))\n",
        "\n",
        "plt.plot(epochs, acc, 'b', label='Training accuracy')\n",
        "plt.title('Training accuracy')\n",
        "\n",
        "plt.figure()\n",
        "\n",
        "plt.plot(epochs, loss, 'b', label='Training Loss')\n",
        "plt.title('Training loss')\n",
        "plt.legend()\n",
        "\n",
        "plt.show()"
      ],
      "metadata": {
        "execution": {
          "iopub.status.busy": "2024-02-12T17:00:01.933473Z",
          "iopub.execute_input": "2024-02-12T17:00:01.934071Z",
          "iopub.status.idle": "2024-02-12T17:00:02.368604Z",
          "shell.execute_reply.started": "2024-02-12T17:00:01.934042Z",
          "shell.execute_reply": "2024-02-12T17:00:02.367791Z"
        },
        "trusted": true,
        "id": "DaxxjeHeQ-AJ",
        "outputId": "2e7ab97e-3fc6-48c5-b1bb-7f83548b4ed9"
      },
      "execution_count": null,
      "outputs": [
        {
          "output_type": "display_data",
          "data": {
            "text/plain": "<Figure size 640x480 with 1 Axes>",
            "image/png": "[encoded data removed]"
          },
          "metadata": {}
        },
        {
          "output_type": "display_data",
          "data": {
            "text/plain": "<Figure size 640x480 with 1 Axes>",
            "image/png": "[encoded data removed]"
          },
          "metadata": {}
        }
      ],
      "id": "DaxxjeHeQ-AJ"
    },
    {
      "cell_type": "markdown",
      "source": [
        "***finally let's quote (generate🦾) : ***"
      ],
      "metadata": {
        "id": "aKC68m8pQ-AJ"
      },
      "id": "aKC68m8pQ-AJ"
    },
    {
      "cell_type": "markdown",
      "source": [
        "![Screenshot%202024-02-12%20184205.png](attachment:Screenshot%202024-02-12%20184205.png)"
      ],
      "metadata": {
        "id": "UfQwrzFEQ-AK"
      },
      "id": "UfQwrzFEQ-AK"
    },
    {
      "cell_type": "code",
      "source": [
        "seed_text = \"live with no one \"\n",
        "next_words = 10   # num of words to generate\n",
        "\n",
        "for _ in range(next_words):\n",
        "    # Converting the text into sequences\n",
        "    token_list = tokenizer.texts_to_sequences([seed_text])[0]\n",
        "    # Pad the sequences\n",
        "    token_list = pad_sequences([token_list], maxlen=max_len_seq -1, padding='pre')\n",
        "    # Getting the probabilities of predicting a word\n",
        "    predicted = model.predict(token_list, verbose=0)\n",
        "    # Choosing the next word based on the maximum probability\n",
        "    predicted = np.argmax(predicted, axis=-1).item()\n",
        "    # Getting the actual word from the word index\n",
        "    output_word = tokenizer.index_word[predicted]\n",
        "    # Appending to the current text\n",
        "    seed_text += \" \" + output_word\n",
        "\n",
        "print(seed_text)"
      ],
      "metadata": {
        "colab": {
          "base_uri": "https://localhost:8080/"
        },
        "id": "6Vc6PHgxa6Hm",
        "outputId": "e1dcc6bc-dfcd-47ce-acc1-22b8f4221ca4",
        "tags": [],
        "execution": {
          "iopub.status.busy": "2024-02-12T17:00:02.369612Z",
          "iopub.execute_input": "2024-02-12T17:00:02.369855Z",
          "iopub.status.idle": "2024-02-12T17:00:03.595443Z",
          "shell.execute_reply.started": "2024-02-12T17:00:02.369832Z",
          "shell.execute_reply": "2024-02-12T17:00:03.594499Z"
        },
        "trusted": true
      },
      "execution_count": null,
      "outputs": [
        {
          "name": "stdout",
          "text": "live with no one  presence this is more behind he were mew'd up clothe\n",
          "output_type": "stream"
        }
      ],
      "id": "6Vc6PHgxa6Hm"
    },
    {
      "cell_type": "markdown",
      "source": [
        "![Screenshot%202024-01-17%20063135.png](attachment:Screenshot%202024-01-17%20063135.png)"
      ],
      "metadata": {
        "id": "mIBBbHFVQ-AK"
      },
      "id": "mIBBbHFVQ-AK"
    }
  ]
}